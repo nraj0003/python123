{
 "cells": [
  {
   "cell_type": "code",
   "execution_count": 184,
   "metadata": {},
   "outputs": [],
   "source": [
    "import pandas as pd\n",
    "import numpy as np\n",
    "from matplotlib import pyplot as plt\n"
   ]
  },
  {
   "cell_type": "markdown",
   "metadata": {},
   "source": [
    "# Data Extraction"
   ]
  },
  {
   "cell_type": "markdown",
   "metadata": {},
   "source": [
    "Importing the data from kaggle. The data is already split into test and train dataset. We shall use the training dataset to implement the machine learning models. The test data is where we shall use the trained model on the unseen data. "
   ]
  },
  {
   "cell_type": "code",
   "execution_count": 133,
   "metadata": {},
   "outputs": [
    {
     "name": "stderr",
     "output_type": "stream",
     "text": [
      "C:\\Users\\nraj0\\Anaconda3\\lib\\site-packages\\ipykernel_launcher.py:3: FutureWarning: Sorting because non-concatenation axis is not aligned. A future version\n",
      "of pandas will change to not sort by default.\n",
      "\n",
      "To accept the future behavior, pass 'sort=True'.\n",
      "\n",
      "To retain the current behavior and silence the warning, pass sort=False\n",
      "\n",
      "  This is separate from the ipykernel package so we can avoid doing imports until\n"
     ]
    }
   ],
   "source": [
    "train = pd.read_csv('https://storage.googleapis.com/kaggle-competitions-data/kaggle/3136/train.csv?GoogleAccessId=web-data@kaggle-161607.iam.gserviceaccount.com&Expires=1541007358&Signature=CcB9dSTeE0vf%2BrikTpqB7pPf5IpSKLF4bGVZdcO29S4%2FOgpxW1bbiRjItOZOBJOPwYnXrGnwC0dNQjTptcyIeq7GVAYC7MDpAn6HoXS6p9TIIQudvHo5kKiDNvj4YOEGOQ5oZtYhEQc4dCjuIwlV4b%2BSNFZRn9E8dcxjXTF%2Bjqw%2BKfIb98sUYbE8fE%2BdTDO5G4S5KiSb0zHSbnYkgDlmSG2Hb7pDJ%2ByfZz321fe9QJ7DOykiUBqQ2NqyJU%2FF8BzRa6yPr3bv6CqLNm6PfvSseXl%2B1HXir6%2F5Z1I4MQJNtYkwCUQIp9GAfliqE0HuS8xtBmzHFFQIFJcwP9maVtMaxA%3D%3D')\n",
    "test = pd.read_csv('https://storage.googleapis.com/kaggle-competitions-data/kaggle/3136/test.csv?GoogleAccessId=web-data@kaggle-161607.iam.gserviceaccount.com&Expires=1541008156&Signature=VbrTuh0r%2Bk9MjE7c%2FveS28yi5uVTk1S8LOlS1lTR8QXZbDQPFYHOnR8NNDFod%2FTP2zS6tM%2FQ5%2F%2FU0R%2Fn%2B7wolz0AvClBAsJAGMkppgz3yPI15otNKZcGXg16ABFZISRhT4Kq6Gm3a1uBg2dA6Uhx7VJrfVAZLeB2HqwfCXiClrGBkDhYoKJZGjGg4w9o6Ru1Zd9yO6db0ALggDu1uIXn%2F2BQJ1SMFlPukTbRsuGQFUYir%2BvVVJZ8gNQcis2GHt0WCm%2BG8HYjDx1FLTofN%2FzwQqw6ZdLSGMd7AZJuAwmL7YzahJfWs0%2FJfefAvqBSdpr8MdPJAnsbS9w4S0awt7EYYg%3D%3D')\n",
    "full_data = pd.concat([train, test])"
   ]
  },
  {
   "cell_type": "markdown",
   "metadata": {},
   "source": [
    "# Data Information\n",
    "We shall see the statistics of the data here"
   ]
  },
  {
   "cell_type": "code",
   "execution_count": 134,
   "metadata": {},
   "outputs": [
    {
     "name": "stdout",
     "output_type": "stream",
     "text": [
      "<class 'pandas.core.frame.DataFrame'>\n",
      "Int64Index: 1309 entries, 0 to 417\n",
      "Data columns (total 12 columns):\n",
      "Age            1046 non-null float64\n",
      "Cabin          295 non-null object\n",
      "Embarked       1307 non-null object\n",
      "Fare           1308 non-null float64\n",
      "Name           1309 non-null object\n",
      "Parch          1309 non-null int64\n",
      "PassengerId    1309 non-null int64\n",
      "Pclass         1309 non-null int64\n",
      "Sex            1309 non-null object\n",
      "SibSp          1309 non-null int64\n",
      "Survived       891 non-null float64\n",
      "Ticket         1309 non-null object\n",
      "dtypes: float64(3), int64(4), object(5)\n",
      "memory usage: 132.9+ KB\n",
      "None\n"
     ]
    }
   ],
   "source": [
    "print(full_data.info())"
   ]
  },
  {
   "cell_type": "code",
   "execution_count": 135,
   "metadata": {},
   "outputs": [
    {
     "name": "stdout",
     "output_type": "stream",
     "text": [
      "1309\n"
     ]
    }
   ],
   "source": [
    "print(len(full_data))"
   ]
  },
  {
   "cell_type": "markdown",
   "metadata": {},
   "source": [
    "# Data Cleaning"
   ]
  },
  {
   "cell_type": "code",
   "execution_count": 136,
   "metadata": {},
   "outputs": [],
   "source": [
    "full_data[\"Title\"] = full_data['Name'].str.replace(\",\", \".\")\n",
    "full_data[\"Title\"] = full_data[\"Title\"].str.split(\".\").str.get(1)\n",
    "# Remove redundent white space in this column\n",
    "full_data['Title'] = full_data['Title'].str.strip(\" \")\n",
    "\n",
    "# full_data['Name'].str.split(\" \").str.get(1).value_counts()"
   ]
  },
  {
   "cell_type": "code",
   "execution_count": 137,
   "metadata": {},
   "outputs": [
    {
     "name": "stdout",
     "output_type": "stream",
     "text": [
      "    Age Cabin Embarked     Fare  \\\n",
      "0  22.0   NaN        S   7.2500   \n",
      "1  38.0   C85        C  71.2833   \n",
      "2  26.0   NaN        S   7.9250   \n",
      "3  35.0  C123        S  53.1000   \n",
      "4  35.0   NaN        S   8.0500   \n",
      "\n",
      "                                                Name  Parch  PassengerId  \\\n",
      "0                            Braund, Mr. Owen Harris      0            1   \n",
      "1  Cumings, Mrs. John Bradley (Florence Briggs Th...      0            2   \n",
      "2                             Heikkinen, Miss. Laina      0            3   \n",
      "3       Futrelle, Mrs. Jacques Heath (Lily May Peel)      0            4   \n",
      "4                           Allen, Mr. William Henry      0            5   \n",
      "\n",
      "   Pclass     Sex  SibSp  Survived            Ticket Title  \n",
      "0       3    male      1       0.0         A/5 21171    Mr  \n",
      "1       1  female      1       1.0          PC 17599   Mrs  \n",
      "2       3  female      0       1.0  STON/O2. 3101282  Miss  \n",
      "3       1  female      1       1.0            113803   Mrs  \n",
      "4       3    male      0       0.0            373450    Mr  \n",
      "<class 'pandas.core.frame.DataFrame'>\n",
      "Int64Index: 1309 entries, 0 to 417\n",
      "Data columns (total 13 columns):\n",
      "Age            1046 non-null float64\n",
      "Cabin          295 non-null object\n",
      "Embarked       1307 non-null object\n",
      "Fare           1308 non-null float64\n",
      "Name           1309 non-null object\n",
      "Parch          1309 non-null int64\n",
      "PassengerId    1309 non-null int64\n",
      "Pclass         1309 non-null int64\n",
      "Sex            1309 non-null object\n",
      "SibSp          1309 non-null int64\n",
      "Survived       891 non-null float64\n",
      "Ticket         1309 non-null object\n",
      "Title          1309 non-null object\n",
      "dtypes: float64(3), int64(4), object(6)\n",
      "memory usage: 143.2+ KB\n",
      "None\n"
     ]
    }
   ],
   "source": [
    "print(full_data.head())\n",
    "print(full_data.info())"
   ]
  },
  {
   "cell_type": "code",
   "execution_count": 138,
   "metadata": {},
   "outputs": [],
   "source": [
    "by_sex = full_data.groupby([\"Sex\", \"Title\"]).size()"
   ]
  },
  {
   "cell_type": "code",
   "execution_count": 139,
   "metadata": {},
   "outputs": [
    {
     "name": "stdout",
     "output_type": "stream",
     "text": [
      "Sex     Title       \n",
      "female  Dona              1\n",
      "        Dr                1\n",
      "        Lady              1\n",
      "        Miss            260\n",
      "        Mlle              2\n",
      "        Mme               1\n",
      "        Mrs             197\n",
      "        Ms                2\n",
      "        the Countess      1\n",
      "male    Capt              1\n",
      "        Col               4\n",
      "        Don               1\n",
      "        Dr                7\n",
      "        Jonkheer          1\n",
      "        Major             2\n",
      "        Master           61\n",
      "        Mr              757\n",
      "        Rev               8\n",
      "        Sir               1\n",
      "dtype: int64\n"
     ]
    }
   ],
   "source": [
    "print(by_sex)"
   ]
  },
  {
   "cell_type": "code",
   "execution_count": 140,
   "metadata": {},
   "outputs": [
    {
     "name": "stderr",
     "output_type": "stream",
     "text": [
      "C:\\Users\\nraj0\\Anaconda3\\lib\\site-packages\\ipykernel_launcher.py:4: SettingWithCopyWarning: \n",
      "A value is trying to be set on a copy of a slice from a DataFrame\n",
      "\n",
      "See the caveats in the documentation: http://pandas.pydata.org/pandas-docs/stable/indexing.html#indexing-view-versus-copy\n",
      "  after removing the cwd from sys.path.\n",
      "C:\\Users\\nraj0\\Anaconda3\\lib\\site-packages\\ipykernel_launcher.py:9: SettingWithCopyWarning: \n",
      "A value is trying to be set on a copy of a slice from a DataFrame\n",
      "\n",
      "See the caveats in the documentation: http://pandas.pydata.org/pandas-docs/stable/indexing.html#indexing-view-versus-copy\n",
      "  if __name__ == '__main__':\n",
      "C:\\Users\\nraj0\\Anaconda3\\lib\\site-packages\\ipykernel_launcher.py:11: SettingWithCopyWarning: \n",
      "A value is trying to be set on a copy of a slice from a DataFrame\n",
      "\n",
      "See the caveats in the documentation: http://pandas.pydata.org/pandas-docs/stable/indexing.html#indexing-view-versus-copy\n",
      "  # This is added back by InteractiveShellApp.init_path()\n"
     ]
    }
   ],
   "source": [
    "# Titles with very low cell counts to be combined to \"rare\" level\n",
    "rare_list = ['Dona', 'Lady', 'the Countess', 'Capt', 'Col', 'Don', 'Dr', 'Major', 'Rev', 'Sir', 'Jonkheer']\n",
    "rare_title = full_data[\"Title\"].isin(rare_list)\n",
    "full_data.Title[rare_title] = \"Rare Title\"\n",
    "\n",
    "# Also reassign mlle, ms, and mme accordingly\n",
    "Mlle = full_data[\"Title\"] == \"Mlle\"\n",
    "Ms = full_data[\"Title\"] == \"Ms\"\n",
    "full_data.Title[Mlle | Ms] = \"Miss\"\n",
    "Mme = full_data[\"Title\"] == \"Mme\"\n",
    "full_data.Title[Mme] = \"Mrs\""
   ]
  },
  {
   "cell_type": "code",
   "execution_count": 141,
   "metadata": {},
   "outputs": [],
   "source": [
    "by_sex = full_data.groupby([\"Sex\", \"Title\"]).size()"
   ]
  },
  {
   "cell_type": "code",
   "execution_count": 142,
   "metadata": {},
   "outputs": [
    {
     "name": "stdout",
     "output_type": "stream",
     "text": [
      "Sex     Title     \n",
      "female  Miss          264\n",
      "        Mrs           198\n",
      "        Rare Title      4\n",
      "male    Master         61\n",
      "        Mr            757\n",
      "        Rare Title     25\n",
      "dtype: int64\n"
     ]
    }
   ],
   "source": [
    "# Show title counts by sex again\n",
    "print(by_sex)"
   ]
  },
  {
   "cell_type": "code",
   "execution_count": 143,
   "metadata": {},
   "outputs": [],
   "source": [
    "full_data[\"Surname\"] = full_data['Name'].str.replace(\",\", \".\")\n",
    "full_data[\"Surname\"] = full_data[\"Surname\"].str.split(\".\").str.get(2)\n",
    "# Remove redundent white space in this column\n",
    "full_data['Surname'] = full_data['Surname'].str.strip(\" \")\n",
    "full_data[\"Surname\"] = full_data[\"Surname\"].str.split(\" \").str.get(0)\n",
    "full_data['Surname'] = full_data['Surname'].str.strip(\"( | )\")"
   ]
  },
  {
   "cell_type": "code",
   "execution_count": 144,
   "metadata": {},
   "outputs": [
    {
     "name": "stdout",
     "output_type": "stream",
     "text": [
      "William      66\n",
      "John         56\n",
      "Charles      28\n",
      "George       27\n",
      "Thomas       26\n",
      "James        22\n",
      "Henry        20\n",
      "Joseph       19\n",
      "Edward       18\n",
      "Frederick    16\n",
      "Samuel       14\n",
      "Johan        14\n",
      "Alfred       13\n",
      "Mary         13\n",
      "Karl         13\n",
      "Richard      12\n",
      "Albert       12\n",
      "Arthur       12\n",
      "Patrick      11\n",
      "Alexander    11\n",
      "Frank        10\n",
      "Walter       10\n",
      "Elizabeth    10\n",
      "Ernest        9\n",
      "Robert        9\n",
      "Anna          9\n",
      "Harry         8\n",
      "Alice         7\n",
      "Benjamin      7\n",
      "Ellen         7\n",
      "             ..\n",
      "Sigvard       1\n",
      "Said          1\n",
      "Grace         1\n",
      "Alden         1\n",
      "Gertrude      1\n",
      "Boulton       1\n",
      "Meier         1\n",
      "Houssein      1\n",
      "Nathan        1\n",
      "Gerda         1\n",
      "Liudevit      1\n",
      "Serafino      1\n",
      "Mitto         1\n",
      "Mirko         1\n",
      "Mohamed       1\n",
      "Leon          1\n",
      "Winifred      1\n",
      "Olaus         1\n",
      "Aurora        1\n",
      "Kanio         1\n",
      "Virginia      1\n",
      "Nellie        1\n",
      "Ramon         1\n",
      "Ole           1\n",
      "Branko        1\n",
      "Robina        1\n",
      "Selena        1\n",
      "Karen         1\n",
      "Austen        1\n",
      "Mathilde      1\n",
      "Name: Surname, Length: 536, dtype: int64\n"
     ]
    }
   ],
   "source": [
    "print(full_data[\"Surname\"].value_counts())"
   ]
  },
  {
   "cell_type": "code",
   "execution_count": 145,
   "metadata": {},
   "outputs": [
    {
     "name": "stdout",
     "output_type": "stream",
     "text": [
      "      Age    Cabin Embarked      Fare  \\\n",
      "4    35.0      NaN        S    8.0500   \n",
      "12   20.0      NaN        S    8.0500   \n",
      "23   28.0       A6        S   35.5000   \n",
      "31    NaN      B78        C  146.5208   \n",
      "41   27.0      NaN        S   21.0000   \n",
      "45    NaN      NaN        S    8.0500   \n",
      "59   11.0      NaN        S   46.9000   \n",
      "86   16.0      NaN        S   34.3750   \n",
      "97   23.0  D10 D12        C   63.3583   \n",
      "117  29.0      NaN        S   21.0000   \n",
      "167  45.0      NaN        S   27.9000   \n",
      "191  19.0      NaN        S   13.0000   \n",
      "226  19.0      NaN        S   10.5000   \n",
      "245  44.0      C78        Q   90.0000   \n",
      "247  24.0      NaN        S   14.5000   \n",
      "252  62.0      C87        S   26.5500   \n",
      "253  30.0      NaN        S   16.1000   \n",
      "263  40.0      B94        S    0.0000   \n",
      "268  58.0     C125        S  153.4625   \n",
      "271  25.0      NaN        S    0.0000   \n",
      "302  19.0      NaN        S    0.0000   \n",
      "312  26.0      NaN        S   26.0000   \n",
      "348   3.0      NaN        S   15.9000   \n",
      "372  19.0      NaN        S    8.0500   \n",
      "390  36.0  B96 B98        S  120.0000   \n",
      "399  28.0      NaN        S   12.6500   \n",
      "407   3.0      NaN        S   18.7500   \n",
      "418  30.0      NaN        S   13.0000   \n",
      "434  50.0      E44        S   55.9000   \n",
      "461  34.0      NaN        S    8.0500   \n",
      "..    ...      ...      ...       ...   \n",
      "614  35.0      NaN        S    8.0500   \n",
      "617  26.0      NaN        S   16.1000   \n",
      "633   NaN      NaN        S    0.0000   \n",
      "722  34.0      NaN        S   13.0000   \n",
      "733  23.0      NaN        S   13.0000   \n",
      "763  36.0  B96 B98        S  120.0000   \n",
      "784  25.0      NaN        S    7.0500   \n",
      "793   NaN      NaN        C   30.6958   \n",
      "802  11.0  B96 B98        S  120.0000   \n",
      "810  26.0      NaN        S    7.8875   \n",
      "880  25.0      NaN        S   26.0000   \n",
      "885  39.0      NaN        Q   29.1250   \n",
      "48   60.0      D15        C   76.2917   \n",
      "49   36.0      NaN        S   15.9000   \n",
      "99   33.0      NaN        S    8.0500   \n",
      "102   NaN      NaN        Q    7.7500   \n",
      "149  30.0      NaN        S   26.0000   \n",
      "190  34.0      NaN        S   26.0000   \n",
      "244   NaN      NaN        S   23.4500   \n",
      "285  36.0      NaN        S    7.2500   \n",
      "316  57.0      B78        C  146.5208   \n",
      "331  39.0      A18        C   29.7000   \n",
      "346  26.0      NaN        S   13.0000   \n",
      "352  18.0      NaN        S   73.5000   \n",
      "360  14.5      NaN        S   69.5500   \n",
      "373  44.0      NaN        S   13.0000   \n",
      "378  55.0      C39        S   50.0000   \n",
      "393  47.0      NaN        S   10.5000   \n",
      "406  23.0      NaN        S   10.5000   \n",
      "411  37.0      C78        Q   90.0000   \n",
      "\n",
      "                                                  Name  Parch  PassengerId  \\\n",
      "4                             Allen, Mr. William Henry      0            5   \n",
      "12                      Saundercock, Mr. William Henry      0           13   \n",
      "23                        Sloper, Mr. William Thompson      0           24   \n",
      "31      Spencer, Mrs. William Augustus (Marie Eugenie)      0           32   \n",
      "41   Turpin, Mrs. William John Robert (Dorothy Ann ...      0           42   \n",
      "45                            Rogers, Mr. William John      0           46   \n",
      "59                  Goodwin, Master. William Frederick      2           60   \n",
      "86                              Ford, Mr. William Neal      3           87   \n",
      "97                     Greenfield, Mr. William Bertram      1           98   \n",
      "117                    Turpin, Mr. William John Robert      0          118   \n",
      "167    Skoog, Mrs. William (Anna Bernhardina Karlsson)      4          168   \n",
      "191                              Carbines, Mr. William      0          192   \n",
      "226                          Mellors, Mr. William John      0          227   \n",
      "245                        Minahan, Dr. William Edward      0          246   \n",
      "247                    Hamalainen, Mrs. William (Anna)      2          248   \n",
      "252                          Stead, Mr. William Thomas      0          253   \n",
      "253                           Lobb, Mr. William Arthur      0          254   \n",
      "263                              Harrison, Mr. William      0          264   \n",
      "268      Graham, Mrs. William Thompson (Edith Junkins)      1          269   \n",
      "271                       Tornquist, Mr. William Henry      0          272   \n",
      "302                    Johnson, Mr. William Cahoone Jr      0          303   \n",
      "312              Lahtinen, Mrs. William (Anna Sylfven)      1          313   \n",
      "348             Coutts, Master. William Loch \"William\"      1          349   \n",
      "372                         Beavan, Mr. William Thomas      0          373   \n",
      "390                         Carter, Mr. William Ernest      2          391   \n",
      "399                   Trout, Mrs. William H (Jessie L)      0          400   \n",
      "407                     Richards, Master. William Rowe      1          408   \n",
      "418                         Matthews, Mr. William John      0          419   \n",
      "434                          Silvey, Mr. William Baird      0          435   \n",
      "461                                Morley, Mr. William      0          462   \n",
      "..                                                 ...    ...          ...   \n",
      "614                    Brocklebank, Mr. William Alfred      0          615   \n",
      "617    Lobb, Mrs. William Arthur (Cordelia K Stanlick)      0          618   \n",
      "633                      Parr, Mr. William Henry Marsh      0          634   \n",
      "722                       Gillespie, Mr. William Henry      0          723   \n",
      "733                         Berriman, Mr. William John      0          734   \n",
      "763          Carter, Mrs. William Ernest (Lucile Polk)      2          764   \n",
      "784                                   Ali, Mr. William      0          785   \n",
      "793                           Hoyt, Mr. William Fisher      0          794   \n",
      "802                Carter, Master. William Thornton II      2          803   \n",
      "810                             Alexander, Mr. William      0          811   \n",
      "880       Shelley, Mrs. William (Imanita Parrish Hall)      1          881   \n",
      "885               Rice, Mrs. William (Margaret Norton)      5          886   \n",
      "48     Bucknell, Mrs. William Robert (Emma Eliza Ward)      0          940   \n",
      "49      Coutts, Mrs. William (Winnie Minnie\" Treanor)\"      2          941   \n",
      "99                        Nancarrow, Mr. William Henry      0          991   \n",
      "102                                 Foley, Mr. William      0          994   \n",
      "149                             Lahtinen, Rev. William      1         1041   \n",
      "190                               Angle, Mr. William A      0         1082   \n",
      "244          Johnston, Master. William Arthur Willie\"\"      2         1136   \n",
      "285                                Dennis, Mr. William      0         1177   \n",
      "316                      Spencer, Mr. William Augustus      0         1208   \n",
      "331                       Dulles, Mr. William Crothers      0         1223   \n",
      "346                         Botsford, Mr. William Hull      0         1238   \n",
      "352                                Dibden, Mr. William      0         1244   \n",
      "360                        Sage, Master. William Henry      2         1252   \n",
      "373                             Harbeck, Mr. William H      0         1265   \n",
      "378                        Hipkins, Mr. William Edward      0         1270   \n",
      "393                               Gilbert, Mr. William      0         1285   \n",
      "406                          Ware, Mr. William Jeffery      0         1298   \n",
      "411    Minahan, Mrs. William Edward (Lillian E Thorpe)      0         1303   \n",
      "\n",
      "     Pclass     Sex  SibSp  Survived              Ticket       Title  Surname  \n",
      "4         3    male      0       0.0              373450          Mr  William  \n",
      "12        3    male      0       0.0           A/5. 2151          Mr  William  \n",
      "23        1    male      0       1.0              113788          Mr  William  \n",
      "31        1  female      1       1.0            PC 17569         Mrs  William  \n",
      "41        2  female      1       0.0               11668         Mrs  William  \n",
      "45        3    male      0       0.0     S.C./A.4. 23567          Mr  William  \n",
      "59        3    male      5       0.0             CA 2144      Master  William  \n",
      "86        3    male      1       0.0          W./C. 6608          Mr  William  \n",
      "97        1    male      0       1.0            PC 17759          Mr  William  \n",
      "117       2    male      1       0.0               11668          Mr  William  \n",
      "167       3  female      1       0.0              347088         Mrs  William  \n",
      "191       2    male      0       0.0               28424          Mr  William  \n",
      "226       2    male      0       1.0           SW/PP 751          Mr  William  \n",
      "245       1    male      2       0.0               19928  Rare Title  William  \n",
      "247       2  female      0       1.0              250649         Mrs  William  \n",
      "252       1    male      0       0.0              113514          Mr  William  \n",
      "253       3    male      1       0.0           A/5. 3336          Mr  William  \n",
      "263       1    male      0       0.0              112059          Mr  William  \n",
      "268       1  female      0       1.0            PC 17582         Mrs  William  \n",
      "271       3    male      0       1.0                LINE          Mr  William  \n",
      "302       3    male      0       0.0                LINE          Mr  William  \n",
      "312       2  female      1       0.0              250651         Mrs  William  \n",
      "348       3    male      1       1.0          C.A. 37671      Master  William  \n",
      "372       3    male      0       0.0              323951          Mr  William  \n",
      "390       1    male      1       1.0              113760          Mr  William  \n",
      "399       2  female      0       1.0              240929         Mrs  William  \n",
      "407       2    male      1       1.0               29106      Master  William  \n",
      "418       2    male      0       0.0               28228          Mr  William  \n",
      "434       1    male      1       0.0               13507          Mr  William  \n",
      "461       3    male      0       0.0              364506          Mr  William  \n",
      "..      ...     ...    ...       ...                 ...         ...      ...  \n",
      "614       3    male      0       0.0              364512          Mr  William  \n",
      "617       3  female      1       0.0           A/5. 3336         Mrs  William  \n",
      "633       1    male      0       0.0              112052          Mr  William  \n",
      "722       2    male      0       0.0               12233          Mr  William  \n",
      "733       2    male      0       0.0               28425          Mr  William  \n",
      "763       1  female      1       1.0              113760         Mrs  William  \n",
      "784       3    male      0       0.0  SOTON/O.Q. 3101312          Mr  William  \n",
      "793       1    male      0       0.0            PC 17600          Mr  William  \n",
      "802       1    male      1       1.0              113760      Master  William  \n",
      "810       3    male      0       0.0                3474          Mr  William  \n",
      "880       2  female      0       1.0              230433         Mrs  William  \n",
      "885       3  female      0       0.0              382652         Mrs  William  \n",
      "48        1  female      0       NaN               11813         Mrs  William  \n",
      "49        3  female      0       NaN          C.A. 37671         Mrs  William  \n",
      "99        3    male      0       NaN          A./5. 3338          Mr  William  \n",
      "102       3    male      0       NaN              365235          Mr  William  \n",
      "149       2    male      1       NaN              250651  Rare Title  William  \n",
      "190       2    male      1       NaN              226875          Mr  William  \n",
      "244       3    male      1       NaN          W./C. 6607      Master  William  \n",
      "285       3    male      0       NaN           A/5 21175          Mr  William  \n",
      "316       1    male      1       NaN            PC 17569          Mr  William  \n",
      "331       1    male      0       NaN            PC 17580          Mr  William  \n",
      "346       2    male      0       NaN              237670          Mr  William  \n",
      "352       2    male      0       NaN        S.O.C. 14879          Mr  William  \n",
      "360       3    male      8       NaN            CA. 2343      Master  William  \n",
      "373       2    male      0       NaN              248746          Mr  William  \n",
      "378       1    male      0       NaN                 680          Mr  William  \n",
      "393       2    male      0       NaN          C.A. 30769          Mr  William  \n",
      "406       2    male      1       NaN               28666          Mr  William  \n",
      "411       1  female      1       NaN               19928         Mrs  William  \n",
      "\n",
      "[66 rows x 14 columns]\n"
     ]
    }
   ],
   "source": [
    "print(full_data[full_data[\"Surname\"]==\"William\"])"
   ]
  },
  {
   "cell_type": "code",
   "execution_count": 146,
   "metadata": {},
   "outputs": [
    {
     "name": "stdout",
     "output_type": "stream",
     "text": [
      "536\n"
     ]
    }
   ],
   "source": [
    "print(full_data[\"Surname\"].nunique())"
   ]
  },
  {
   "cell_type": "code",
   "execution_count": 147,
   "metadata": {},
   "outputs": [],
   "source": [
    "full_data[\"Fsize\"] = full_data[\"SibSp\"] + full_data[\"Parch\"] + 1"
   ]
  },
  {
   "cell_type": "code",
   "execution_count": 148,
   "metadata": {},
   "outputs": [
    {
     "name": "stdout",
     "output_type": "stream",
     "text": [
      "0      2\n",
      "1      2\n",
      "2      1\n",
      "3      2\n",
      "4      1\n",
      "5      1\n",
      "6      1\n",
      "7      5\n",
      "8      3\n",
      "9      2\n",
      "10     3\n",
      "11     1\n",
      "12     1\n",
      "13     7\n",
      "14     1\n",
      "15     1\n",
      "16     6\n",
      "17     1\n",
      "18     2\n",
      "19     1\n",
      "20     1\n",
      "21     1\n",
      "22     1\n",
      "23     1\n",
      "24     5\n",
      "25     7\n",
      "26     1\n",
      "27     6\n",
      "28     1\n",
      "29     1\n",
      "      ..\n",
      "388    1\n",
      "389    5\n",
      "390    1\n",
      "391    2\n",
      "392    3\n",
      "393    1\n",
      "394    5\n",
      "395    2\n",
      "396    1\n",
      "397    3\n",
      "398    1\n",
      "399    1\n",
      "400    1\n",
      "401    2\n",
      "402    2\n",
      "403    1\n",
      "404    2\n",
      "405    1\n",
      "406    2\n",
      "407    3\n",
      "408    1\n",
      "409    3\n",
      "410    1\n",
      "411    2\n",
      "412    1\n",
      "413    1\n",
      "414    1\n",
      "415    1\n",
      "416    1\n",
      "417    3\n",
      "Name: Fsize, Length: 1309, dtype: int64\n"
     ]
    }
   ],
   "source": [
    "print(full_data[\"Fsize\"])"
   ]
  },
  {
   "cell_type": "code",
   "execution_count": 150,
   "metadata": {},
   "outputs": [],
   "source": [
    "full_data[\"Family\"] = full_data.apply(lambda row: row[\"Surname\"] + \"_\" + str(row[\"Fsize\"]), axis = 1)"
   ]
  },
  {
   "cell_type": "code",
   "execution_count": 151,
   "metadata": {},
   "outputs": [
    {
     "data": {
      "text/plain": [
       "0            Owen_2\n",
       "1            John_2\n",
       "2           Laina_1\n",
       "3         Jacques_2\n",
       "4         William_1\n",
       "5           James_1\n",
       "6         Timothy_1\n",
       "7           Gosta_5\n",
       "8           Oscar_3\n",
       "9        Nicholas_2\n",
       "10     Marguerite_3\n",
       "11      Elizabeth_1\n",
       "12        William_1\n",
       "13         Anders_7\n",
       "14          Hulda_1\n",
       "15           Mary_1\n",
       "16         Eugene_6\n",
       "17        Charles_1\n",
       "18         Julius_2\n",
       "19         Fatima_1\n",
       "20         Joseph_1\n",
       "21       Lawrence_1\n",
       "22           Anna_1\n",
       "23        William_1\n",
       "24        Torborg_5\n",
       "25           Carl_7\n",
       "26         Farred_1\n",
       "27        Charles_6\n",
       "28          Ellen_1\n",
       "29          Lalio_1\n",
       "           ...     \n",
       "388       Patrick_1\n",
       "389          Paul_5\n",
       "390        Vivian_1\n",
       "391        Ernest_2\n",
       "392        Eugene_3\n",
       "393       William_1\n",
       "394         Anton_5\n",
       "395        Lucien_2\n",
       "396       Patrick_1\n",
       "397    Maxmillian_3\n",
       "398        Edvard_1\n",
       "399        Thomas_1\n",
       "400      Caroline_1\n",
       "401         Harry_2\n",
       "402       Dorothy_2\n",
       "403          Jose_1\n",
       "404         Isaac_2\n",
       "405        Alfred_1\n",
       "406       William_2\n",
       "407        George_3\n",
       "408       Johanna_1\n",
       "409    Treasteall_3\n",
       "410        Hannah_1\n",
       "411       William_2\n",
       "412         Jenny_1\n",
       "413         Woolf_1\n",
       "414       Fermina_1\n",
       "415         Simon_1\n",
       "416     Frederick_1\n",
       "417       Michael_3\n",
       "Name: Family, Length: 1309, dtype: object"
      ]
     },
     "execution_count": 151,
     "metadata": {},
     "output_type": "execute_result"
    }
   ],
   "source": [
    "full_data[\"Family\"]"
   ]
  },
  {
   "cell_type": "markdown",
   "metadata": {},
   "source": [
    "# Data Visualization"
   ]
  },
  {
   "cell_type": "markdown",
   "metadata": {},
   "source": [
    "Using seaborn to visualize the relationship between family size & survival"
   ]
  },
  {
   "cell_type": "code",
   "execution_count": 149,
   "metadata": {},
   "outputs": [
    {
     "data": {
      "text/plain": [
       "<matplotlib.axes._subplots.AxesSubplot at 0x23409521668>"
      ]
     },
     "execution_count": 149,
     "metadata": {},
     "output_type": "execute_result"
    },
    {
     "data": {
      "image/png": "[encoded data removed]",
      "text/plain": [
       "<Figure size 432x288 with 1 Axes>"
      ]
     },
     "metadata": {},
     "output_type": "display_data"
    }
   ],
   "source": [
    "import seaborn as sns\n",
    "sns.countplot(data = full_data,\n",
    "            x=\"Fsize\",\n",
    "            hue = \"Survived\"\n",
    "           )"
   ]
  },
  {
   "cell_type": "markdown",
   "metadata": {},
   "source": [
    "We can thus conclude that there’s a survival penalty to singletons and those with family sizes above 4"
   ]
  },
  {
   "cell_type": "code",
   "execution_count": 152,
   "metadata": {},
   "outputs": [],
   "source": [
    "singleton = full_data[\"Fsize\"] == 1\n",
    "small = (full_data[\"Fsize\"] < 5) & (full_data[\"Fsize\"] > 1)\n",
    "large = full_data[\"Fsize\"] > 4\n",
    "def FsizeD_method(row):\n",
    "    if row['Fsize'] == 1:\n",
    "        return 'singleton'\n",
    "    if (row['Fsize'] < 5) & (row['Fsize'] > 1):\n",
    "        return 'small'\n",
    "    if row['Fsize'] > 4:\n",
    "        return 'large'\n",
    "full_data['FsizeD'] = full_data.apply(lambda row: FsizeD_method(row), axis = 1)"
   ]
  },
  {
   "cell_type": "code",
   "execution_count": 153,
   "metadata": {},
   "outputs": [
    {
     "name": "stdout",
     "output_type": "stream",
     "text": [
      "0          small\n",
      "1          small\n",
      "2      singleton\n",
      "3          small\n",
      "4      singleton\n",
      "5      singleton\n",
      "6      singleton\n",
      "7          large\n",
      "8          small\n",
      "9          small\n",
      "10         small\n",
      "11     singleton\n",
      "12     singleton\n",
      "13         large\n",
      "14     singleton\n",
      "15     singleton\n",
      "16         large\n",
      "17     singleton\n",
      "18         small\n",
      "19     singleton\n",
      "20     singleton\n",
      "21     singleton\n",
      "22     singleton\n",
      "23     singleton\n",
      "24         large\n",
      "25         large\n",
      "26     singleton\n",
      "27         large\n",
      "28     singleton\n",
      "29     singleton\n",
      "         ...    \n",
      "388    singleton\n",
      "389        large\n",
      "390    singleton\n",
      "391        small\n",
      "392        small\n",
      "393    singleton\n",
      "394        large\n",
      "395        small\n",
      "396    singleton\n",
      "397        small\n",
      "398    singleton\n",
      "399    singleton\n",
      "400    singleton\n",
      "401        small\n",
      "402        small\n",
      "403    singleton\n",
      "404        small\n",
      "405    singleton\n",
      "406        small\n",
      "407        small\n",
      "408    singleton\n",
      "409        small\n",
      "410    singleton\n",
      "411        small\n",
      "412    singleton\n",
      "413    singleton\n",
      "414    singleton\n",
      "415    singleton\n",
      "416    singleton\n",
      "417        small\n",
      "Name: FsizeD, Length: 1309, dtype: object\n"
     ]
    }
   ],
   "source": [
    "print(full_data[\"FsizeD\"])"
   ]
  },
  {
   "cell_type": "code",
   "execution_count": 154,
   "metadata": {},
   "outputs": [
    {
     "data": {
      "text/plain": [
       "(<Figure size 432x288 with 3 Axes>,\n",
       " OrderedDict([(('small', '0.0'),\n",
       "               (0.0, 0.0, 0.3244768921336578, 0.4198334319391981)),\n",
       "              (('small', '1.0'),\n",
       "               (0.0,\n",
       "                0.42315569107541073,\n",
       "                0.3244768921336578,\n",
       "                0.5768443089245892)),\n",
       "              (('singleton', '0.0'),\n",
       "               (0.3294273871831628,\n",
       "                0.0,\n",
       "                0.5967263393005967,\n",
       "                0.6941479982924702)),\n",
       "              (('singleton', '1.0'),\n",
       "               (0.3294273871831628,\n",
       "                0.6974702574286827,\n",
       "                0.5967263393005967,\n",
       "                0.30252974257131715)),\n",
       "              (('large', '0.0'),\n",
       "               (0.9311042215332644,\n",
       "                0.0,\n",
       "                0.06889577846673557,\n",
       "                0.8359232665309184)),\n",
       "              (('large', '1.0'),\n",
       "               (0.9311042215332644,\n",
       "                0.839245525667131,\n",
       "                0.06889577846673557,\n",
       "                0.16075447433286888))]))"
      ]
     },
     "execution_count": 154,
     "metadata": {},
     "output_type": "execute_result"
    },
    {
     "data": {
      "image/png": "[encoded data removed]",
      "text/plain": [
       "<Figure size 432x288 with 3 Axes>"
      ]
     },
     "metadata": {},
     "output_type": "display_data"
    }
   ],
   "source": [
    "from statsmodels.graphics.mosaicplot import mosaic\n",
    "\n",
    "mosaic(full_data, ['FsizeD', 'Survived'])"
   ]
  },
  {
   "cell_type": "markdown",
   "metadata": {},
   "source": [
    "The above visualization shows that the survival rate is more with small families than large families"
   ]
  },
  {
   "cell_type": "code",
   "execution_count": 155,
   "metadata": {},
   "outputs": [
    {
     "name": "stdout",
     "output_type": "stream",
     "text": [
      "<class 'pandas.core.frame.DataFrame'>\n",
      "Int64Index: 1309 entries, 0 to 417\n",
      "Data columns (total 17 columns):\n",
      "Age            1046 non-null float64\n",
      "Cabin          295 non-null object\n",
      "Embarked       1307 non-null object\n",
      "Fare           1308 non-null float64\n",
      "Name           1309 non-null object\n",
      "Parch          1309 non-null int64\n",
      "PassengerId    1309 non-null int64\n",
      "Pclass         1309 non-null int64\n",
      "Sex            1309 non-null object\n",
      "SibSp          1309 non-null int64\n",
      "Survived       891 non-null float64\n",
      "Ticket         1309 non-null object\n",
      "Title          1309 non-null object\n",
      "Surname        1309 non-null object\n",
      "Fsize          1309 non-null int64\n",
      "Family         1309 non-null object\n",
      "FsizeD         1309 non-null object\n",
      "dtypes: float64(3), int64(5), object(9)\n",
      "memory usage: 224.1+ KB\n",
      "None\n"
     ]
    }
   ],
   "source": [
    "print(full_data.info())"
   ]
  },
  {
   "cell_type": "code",
   "execution_count": 25,
   "metadata": {},
   "outputs": [
    {
     "name": "stdout",
     "output_type": "stream",
     "text": [
      "0      NaN\n",
      "1      C85\n",
      "2      NaN\n",
      "3     C123\n",
      "4      NaN\n",
      "5      NaN\n",
      "6      E46\n",
      "7      NaN\n",
      "8      NaN\n",
      "9      NaN\n",
      "10      G6\n",
      "11    C103\n",
      "12     NaN\n",
      "13     NaN\n",
      "14     NaN\n",
      "15     NaN\n",
      "16     NaN\n",
      "17     NaN\n",
      "18     NaN\n",
      "19     NaN\n",
      "20     NaN\n",
      "21     D56\n",
      "22     NaN\n",
      "23      A6\n",
      "24     NaN\n",
      "25     NaN\n",
      "Name: Cabin, dtype: object\n"
     ]
    }
   ],
   "source": [
    "print(full_data['Cabin'][:26])"
   ]
  },
  {
   "cell_type": "code",
   "execution_count": 156,
   "metadata": {},
   "outputs": [
    {
     "name": "stderr",
     "output_type": "stream",
     "text": [
      "C:\\Users\\nraj0\\Anaconda3\\lib\\site-packages\\ipykernel_launcher.py:2: SettingWithCopyWarning: \n",
      "A value is trying to be set on a copy of a slice from a DataFrame\n",
      "\n",
      "See the caveats in the documentation: http://pandas.pydata.org/pandas-docs/stable/indexing.html#indexing-view-versus-copy\n",
      "  \n"
     ]
    }
   ],
   "source": [
    "full_data['Deck'] = full_data['Cabin']\n",
    "full_data.Deck[full_data['Deck'].notna()] = full_data.Deck.astype(str).str[0]"
   ]
  },
  {
   "cell_type": "code",
   "execution_count": 157,
   "metadata": {},
   "outputs": [
    {
     "data": {
      "text/plain": [
       "0    NaN\n",
       "1      C\n",
       "2    NaN\n",
       "3      C\n",
       "4    NaN\n",
       "Name: Deck, dtype: object"
      ]
     },
     "execution_count": 157,
     "metadata": {},
     "output_type": "execute_result"
    }
   ],
   "source": [
    "full_data['Deck'].head()"
   ]
  },
  {
   "cell_type": "markdown",
   "metadata": {},
   "source": [
    "get the Deck number"
   ]
  },
  {
   "cell_type": "code",
   "execution_count": 158,
   "metadata": {},
   "outputs": [
    {
     "name": "stdout",
     "output_type": "stream",
     "text": [
      "      Age Cabin Embarked  Fare                                       Name  \\\n",
      "61   38.0   B28      NaN  80.0                        Icard, Miss. Amelie   \n",
      "829  62.0   B28      NaN  80.0  Stone, Mrs. George Nelson (Martha Evelyn)   \n",
      "\n",
      "     Parch  PassengerId  Pclass     Sex  SibSp  Survived  Ticket Title  \\\n",
      "61       0           62       1  female      0       1.0  113572  Miss   \n",
      "829      0          830       1  female      0       1.0  113572   Mrs   \n",
      "\n",
      "    Surname  Fsize    Family     FsizeD Deck  \n",
      "61   Amelie      1  Amelie_1  singleton    B  \n",
      "829  George      1  George_1  singleton    B  \n"
     ]
    }
   ],
   "source": [
    "print(full_data[full_data['Embarked'].isnull()])"
   ]
  },
  {
   "cell_type": "code",
   "execution_count": 159,
   "metadata": {},
   "outputs": [],
   "source": [
    "embarlk_fare = full_data.filter(['Embarked', 'Pclass', 'Fare'], axis = 1)"
   ]
  },
  {
   "cell_type": "code",
   "execution_count": 160,
   "metadata": {},
   "outputs": [
    {
     "name": "stdout",
     "output_type": "stream",
     "text": [
      "    Embarked  Pclass      Fare\n",
      "0          S       3    7.2500\n",
      "1          C       1   71.2833\n",
      "2          S       3    7.9250\n",
      "3          S       1   53.1000\n",
      "4          S       3    8.0500\n",
      "5          Q       3    8.4583\n",
      "6          S       1   51.8625\n",
      "7          S       3   21.0750\n",
      "8          S       3   11.1333\n",
      "9          C       2   30.0708\n",
      "10         S       3   16.7000\n",
      "11         S       1   26.5500\n",
      "12         S       3    8.0500\n",
      "13         S       3   31.2750\n",
      "14         S       3    7.8542\n",
      "15         S       2   16.0000\n",
      "16         Q       3   29.1250\n",
      "17         S       2   13.0000\n",
      "18         S       3   18.0000\n",
      "19         C       3    7.2250\n",
      "20         S       2   26.0000\n",
      "21         S       2   13.0000\n",
      "22         Q       3    8.0292\n",
      "23         S       1   35.5000\n",
      "24         S       3   21.0750\n",
      "25         S       3   31.3875\n",
      "26         C       3    7.2250\n",
      "27         S       1  263.0000\n",
      "28         Q       3    7.8792\n",
      "29         S       3    7.8958\n",
      "..       ...     ...       ...\n",
      "388        Q       3    7.7500\n",
      "389        S       3   21.0750\n",
      "390        S       1   93.5000\n",
      "391        S       1   39.4000\n",
      "392        S       3   20.2500\n",
      "393        S       2   10.5000\n",
      "394        S       3   22.0250\n",
      "395        S       1   60.0000\n",
      "396        Q       3    7.2500\n",
      "397        C       1   79.2000\n",
      "398        S       3    7.7750\n",
      "399        Q       3    7.7333\n",
      "400        S       1  164.8667\n",
      "401        S       2   21.0000\n",
      "402        C       1   59.4000\n",
      "403        S       1   47.1000\n",
      "404        C       1   27.7208\n",
      "405        C       2   13.8625\n",
      "406        S       2   10.5000\n",
      "407        C       1  211.5000\n",
      "408        Q       3    7.7208\n",
      "409        S       3   13.7750\n",
      "410        Q       3    7.7500\n",
      "411        Q       1   90.0000\n",
      "412        S       3    7.7750\n",
      "413        S       3    8.0500\n",
      "414        C       1  108.9000\n",
      "415        S       3    7.2500\n",
      "416        S       3    8.0500\n",
      "417        C       3   22.3583\n",
      "\n",
      "[1309 rows x 3 columns]\n",
      "      Age        Cabin Embarked      Fare  \\\n",
      "0    22.0          NaN        S    7.2500   \n",
      "1    38.0          C85        C   71.2833   \n",
      "2    26.0          NaN        S    7.9250   \n",
      "3    35.0         C123        S   53.1000   \n",
      "4    35.0          NaN        S    8.0500   \n",
      "5     NaN          NaN        Q    8.4583   \n",
      "6    54.0          E46        S   51.8625   \n",
      "7     2.0          NaN        S   21.0750   \n",
      "8    27.0          NaN        S   11.1333   \n",
      "9    14.0          NaN        C   30.0708   \n",
      "10    4.0           G6        S   16.7000   \n",
      "11   58.0         C103        S   26.5500   \n",
      "12   20.0          NaN        S    8.0500   \n",
      "13   39.0          NaN        S   31.2750   \n",
      "14   14.0          NaN        S    7.8542   \n",
      "15   55.0          NaN        S   16.0000   \n",
      "16    2.0          NaN        Q   29.1250   \n",
      "17    NaN          NaN        S   13.0000   \n",
      "18   31.0          NaN        S   18.0000   \n",
      "19    NaN          NaN        C    7.2250   \n",
      "20   35.0          NaN        S   26.0000   \n",
      "21   34.0          D56        S   13.0000   \n",
      "22   15.0          NaN        Q    8.0292   \n",
      "23   28.0           A6        S   35.5000   \n",
      "24    8.0          NaN        S   21.0750   \n",
      "25   38.0          NaN        S   31.3875   \n",
      "26    NaN          NaN        C    7.2250   \n",
      "27   19.0  C23 C25 C27        S  263.0000   \n",
      "28    NaN          NaN        Q    7.8792   \n",
      "29    NaN          NaN        S    7.8958   \n",
      "..    ...          ...      ...       ...   \n",
      "388  21.0          NaN        Q    7.7500   \n",
      "389   6.0          NaN        S   21.0750   \n",
      "390  23.0          B24        S   93.5000   \n",
      "391  51.0          D28        S   39.4000   \n",
      "392  13.0          NaN        S   20.2500   \n",
      "393  47.0          NaN        S   10.5000   \n",
      "394  29.0          NaN        S   22.0250   \n",
      "395  18.0          C31        S   60.0000   \n",
      "396  24.0          NaN        Q    7.2500   \n",
      "397  48.0          B41        C   79.2000   \n",
      "398  22.0          NaN        S    7.7750   \n",
      "399  31.0          NaN        Q    7.7333   \n",
      "400  30.0           C7        S  164.8667   \n",
      "401  38.0          NaN        S   21.0000   \n",
      "402  22.0          NaN        C   59.4000   \n",
      "403  17.0          NaN        S   47.1000   \n",
      "404  43.0          D40        C   27.7208   \n",
      "405  20.0          D38        C   13.8625   \n",
      "406  23.0          NaN        S   10.5000   \n",
      "407  50.0          C80        C  211.5000   \n",
      "408   NaN          NaN        Q    7.7208   \n",
      "409   3.0          NaN        S   13.7750   \n",
      "410   NaN          NaN        Q    7.7500   \n",
      "411  37.0          C78        Q   90.0000   \n",
      "412  28.0          NaN        S    7.7750   \n",
      "413   NaN          NaN        S    8.0500   \n",
      "414  39.0         C105        C  108.9000   \n",
      "415  38.5          NaN        S    7.2500   \n",
      "416   NaN          NaN        S    8.0500   \n",
      "417   NaN          NaN        C   22.3583   \n",
      "\n",
      "                                                  Name  Parch  PassengerId  \\\n",
      "0                              Braund, Mr. Owen Harris      0            1   \n",
      "1    Cumings, Mrs. John Bradley (Florence Briggs Th...      0            2   \n",
      "2                               Heikkinen, Miss. Laina      0            3   \n",
      "3         Futrelle, Mrs. Jacques Heath (Lily May Peel)      0            4   \n",
      "4                             Allen, Mr. William Henry      0            5   \n",
      "5                                     Moran, Mr. James      0            6   \n",
      "6                              McCarthy, Mr. Timothy J      0            7   \n",
      "7                       Palsson, Master. Gosta Leonard      1            8   \n",
      "8    Johnson, Mrs. Oscar W (Elisabeth Vilhelmina Berg)      2            9   \n",
      "9                  Nasser, Mrs. Nicholas (Adele Achem)      0           10   \n",
      "10                     Sandstrom, Miss. Marguerite Rut      1           11   \n",
      "11                            Bonnell, Miss. Elizabeth      0           12   \n",
      "12                      Saundercock, Mr. William Henry      0           13   \n",
      "13                         Andersson, Mr. Anders Johan      5           14   \n",
      "14                Vestrom, Miss. Hulda Amanda Adolfina      0           15   \n",
      "15                    Hewlett, Mrs. (Mary D Kingcome)       0           16   \n",
      "16                                Rice, Master. Eugene      1           17   \n",
      "17                        Williams, Mr. Charles Eugene      0           18   \n",
      "18   Vander Planke, Mrs. Julius (Emelia Maria Vande...      0           19   \n",
      "19                             Masselmani, Mrs. Fatima      0           20   \n",
      "20                                Fynney, Mr. Joseph J      0           21   \n",
      "21                               Beesley, Mr. Lawrence      0           22   \n",
      "22                         McGowan, Miss. Anna \"Annie\"      0           23   \n",
      "23                        Sloper, Mr. William Thompson      0           24   \n",
      "24                       Palsson, Miss. Torborg Danira      1           25   \n",
      "25   Asplund, Mrs. Carl Oscar (Selma Augusta Emilia...      5           26   \n",
      "26                             Emir, Mr. Farred Chehab      0           27   \n",
      "27                      Fortune, Mr. Charles Alexander      2           28   \n",
      "28                       O'Dwyer, Miss. Ellen \"Nellie\"      0           29   \n",
      "29                                 Todoroff, Mr. Lalio      0           30   \n",
      "..                                                 ...    ...          ...   \n",
      "388                               Canavan, Mr. Patrick      0         1280   \n",
      "389                        Palsson, Master. Paul Folke      1         1281   \n",
      "390                         Payne, Mr. Vivian Ponsonby      0         1282   \n",
      "391     Lines, Mrs. Ernest H (Elizabeth Lindsey James)      1         1283   \n",
      "392                      Abbott, Master. Eugene Joseph      2         1284   \n",
      "393                               Gilbert, Mr. William      0         1285   \n",
      "394                           Kink-Heilmann, Mr. Anton      1         1286   \n",
      "395     Smith, Mrs. Lucien Philip (Mary Eloise Hughes)      0         1287   \n",
      "396                               Colbert, Mr. Patrick      0         1288   \n",
      "397  Frolicher-Stehli, Mrs. Maxmillian (Margaretha ...      1         1289   \n",
      "398                     Larsson-Rondberg, Mr. Edvard A      0         1290   \n",
      "399                           Conlon, Mr. Thomas Henry      0         1291   \n",
      "400                            Bonnell, Miss. Caroline      0         1292   \n",
      "401                                    Gale, Mr. Harry      0         1293   \n",
      "402                     Gibson, Miss. Dorothy Winifred      1         1294   \n",
      "403                             Carrau, Mr. Jose Pedro      0         1295   \n",
      "404                       Frauenthal, Mr. Isaac Gerald      0         1296   \n",
      "405       Nourney, Mr. Alfred (Baron von Drachstedt\")\"      0         1297   \n",
      "406                          Ware, Mr. William Jeffery      0         1298   \n",
      "407                         Widener, Mr. George Dunton      1         1299   \n",
      "408                    Riordan, Miss. Johanna Hannah\"\"      0         1300   \n",
      "409                          Peacock, Miss. Treasteall      1         1301   \n",
      "410                             Naughton, Miss. Hannah      0         1302   \n",
      "411    Minahan, Mrs. William Edward (Lillian E Thorpe)      0         1303   \n",
      "412                     Henriksson, Miss. Jenny Lovisa      0         1304   \n",
      "413                                 Spector, Mr. Woolf      0         1305   \n",
      "414                       Oliva y Ocana, Dona. Fermina      0         1306   \n",
      "415                       Saether, Mr. Simon Sivertsen      0         1307   \n",
      "416                                Ware, Mr. Frederick      0         1308   \n",
      "417                           Peter, Master. Michael J      1         1309   \n",
      "\n",
      "     Pclass     Sex  SibSp  Survived              Ticket       Title  \\\n",
      "0         3    male      1       0.0           A/5 21171          Mr   \n",
      "1         1  female      1       1.0            PC 17599         Mrs   \n",
      "2         3  female      0       1.0    STON/O2. 3101282        Miss   \n",
      "3         1  female      1       1.0              113803         Mrs   \n",
      "4         3    male      0       0.0              373450          Mr   \n",
      "5         3    male      0       0.0              330877          Mr   \n",
      "6         1    male      0       0.0               17463          Mr   \n",
      "7         3    male      3       0.0              349909      Master   \n",
      "8         3  female      0       1.0              347742         Mrs   \n",
      "9         2  female      1       1.0              237736         Mrs   \n",
      "10        3  female      1       1.0             PP 9549        Miss   \n",
      "11        1  female      0       1.0              113783        Miss   \n",
      "12        3    male      0       0.0           A/5. 2151          Mr   \n",
      "13        3    male      1       0.0              347082          Mr   \n",
      "14        3  female      0       0.0              350406        Miss   \n",
      "15        2  female      0       1.0              248706         Mrs   \n",
      "16        3    male      4       0.0              382652      Master   \n",
      "17        2    male      0       1.0              244373          Mr   \n",
      "18        3  female      1       0.0              345763         Mrs   \n",
      "19        3  female      0       1.0                2649         Mrs   \n",
      "20        2    male      0       0.0              239865          Mr   \n",
      "21        2    male      0       1.0              248698          Mr   \n",
      "22        3  female      0       1.0              330923        Miss   \n",
      "23        1    male      0       1.0              113788          Mr   \n",
      "24        3  female      3       0.0              349909        Miss   \n",
      "25        3  female      1       1.0              347077         Mrs   \n",
      "26        3    male      0       0.0                2631          Mr   \n",
      "27        1    male      3       0.0               19950          Mr   \n",
      "28        3  female      0       1.0              330959        Miss   \n",
      "29        3    male      0       0.0              349216          Mr   \n",
      "..      ...     ...    ...       ...                 ...         ...   \n",
      "388       3    male      0       NaN              364858          Mr   \n",
      "389       3    male      3       NaN              349909      Master   \n",
      "390       1    male      0       NaN               12749          Mr   \n",
      "391       1  female      0       NaN            PC 17592         Mrs   \n",
      "392       3    male      0       NaN           C.A. 2673      Master   \n",
      "393       2    male      0       NaN          C.A. 30769          Mr   \n",
      "394       3    male      3       NaN              315153          Mr   \n",
      "395       1  female      1       NaN               13695         Mrs   \n",
      "396       3    male      0       NaN              371109          Mr   \n",
      "397       1  female      1       NaN               13567         Mrs   \n",
      "398       3    male      0       NaN              347065          Mr   \n",
      "399       3    male      0       NaN               21332          Mr   \n",
      "400       1  female      0       NaN               36928        Miss   \n",
      "401       2    male      1       NaN               28664          Mr   \n",
      "402       1  female      0       NaN              112378        Miss   \n",
      "403       1    male      0       NaN              113059          Mr   \n",
      "404       1    male      1       NaN               17765          Mr   \n",
      "405       2    male      0       NaN       SC/PARIS 2166          Mr   \n",
      "406       2    male      1       NaN               28666          Mr   \n",
      "407       1    male      1       NaN              113503          Mr   \n",
      "408       3  female      0       NaN              334915        Miss   \n",
      "409       3  female      1       NaN  SOTON/O.Q. 3101315        Miss   \n",
      "410       3  female      0       NaN              365237        Miss   \n",
      "411       1  female      1       NaN               19928         Mrs   \n",
      "412       3  female      0       NaN              347086        Miss   \n",
      "413       3    male      0       NaN           A.5. 3236          Mr   \n",
      "414       1  female      0       NaN            PC 17758  Rare Title   \n",
      "415       3    male      0       NaN  SOTON/O.Q. 3101262          Mr   \n",
      "416       3    male      0       NaN              359309          Mr   \n",
      "417       3    male      1       NaN                2668      Master   \n",
      "\n",
      "        Surname  Fsize        Family     FsizeD Deck  \n",
      "0          Owen      2        Owen_2      small  NaN  \n",
      "1          John      2        John_2      small    C  \n",
      "2         Laina      1       Laina_1  singleton  NaN  \n",
      "3       Jacques      2     Jacques_2      small    C  \n",
      "4       William      1     William_1  singleton  NaN  \n",
      "5         James      1       James_1  singleton  NaN  \n",
      "6       Timothy      1     Timothy_1  singleton    E  \n",
      "7         Gosta      5       Gosta_5      large  NaN  \n",
      "8         Oscar      3       Oscar_3      small  NaN  \n",
      "9      Nicholas      2    Nicholas_2      small  NaN  \n",
      "10   Marguerite      3  Marguerite_3      small    G  \n",
      "11    Elizabeth      1   Elizabeth_1  singleton    C  \n",
      "12      William      1     William_1  singleton  NaN  \n",
      "13       Anders      7      Anders_7      large  NaN  \n",
      "14        Hulda      1       Hulda_1  singleton  NaN  \n",
      "15         Mary      1        Mary_1  singleton  NaN  \n",
      "16       Eugene      6      Eugene_6      large  NaN  \n",
      "17      Charles      1     Charles_1  singleton  NaN  \n",
      "18       Julius      2      Julius_2      small  NaN  \n",
      "19       Fatima      1      Fatima_1  singleton  NaN  \n",
      "20       Joseph      1      Joseph_1  singleton  NaN  \n",
      "21     Lawrence      1    Lawrence_1  singleton    D  \n",
      "22         Anna      1        Anna_1  singleton  NaN  \n",
      "23      William      1     William_1  singleton    A  \n",
      "24      Torborg      5     Torborg_5      large  NaN  \n",
      "25         Carl      7        Carl_7      large  NaN  \n",
      "26       Farred      1      Farred_1  singleton  NaN  \n",
      "27      Charles      6     Charles_6      large    C  \n",
      "28        Ellen      1       Ellen_1  singleton  NaN  \n",
      "29        Lalio      1       Lalio_1  singleton  NaN  \n",
      "..          ...    ...           ...        ...  ...  \n",
      "388     Patrick      1     Patrick_1  singleton  NaN  \n",
      "389        Paul      5        Paul_5      large  NaN  \n",
      "390      Vivian      1      Vivian_1  singleton    B  \n",
      "391      Ernest      2      Ernest_2      small    D  \n",
      "392      Eugene      3      Eugene_3      small  NaN  \n",
      "393     William      1     William_1  singleton  NaN  \n",
      "394       Anton      5       Anton_5      large  NaN  \n",
      "395      Lucien      2      Lucien_2      small    C  \n",
      "396     Patrick      1     Patrick_1  singleton  NaN  \n",
      "397  Maxmillian      3  Maxmillian_3      small    B  \n",
      "398      Edvard      1      Edvard_1  singleton  NaN  \n",
      "399      Thomas      1      Thomas_1  singleton  NaN  \n",
      "400    Caroline      1    Caroline_1  singleton    C  \n",
      "401       Harry      2       Harry_2      small  NaN  \n",
      "402     Dorothy      2     Dorothy_2      small  NaN  \n",
      "403        Jose      1        Jose_1  singleton  NaN  \n",
      "404       Isaac      2       Isaac_2      small    D  \n",
      "405      Alfred      1      Alfred_1  singleton    D  \n",
      "406     William      2     William_2      small  NaN  \n",
      "407      George      3      George_3      small    C  \n",
      "408     Johanna      1     Johanna_1  singleton  NaN  \n",
      "409  Treasteall      3  Treasteall_3      small  NaN  \n",
      "410      Hannah      1      Hannah_1  singleton  NaN  \n",
      "411     William      2     William_2      small    C  \n",
      "412       Jenny      1       Jenny_1  singleton  NaN  \n",
      "413       Woolf      1       Woolf_1  singleton  NaN  \n",
      "414     Fermina      1     Fermina_1  singleton    C  \n",
      "415       Simon      1       Simon_1  singleton  NaN  \n",
      "416   Frederick      1   Frederick_1  singleton  NaN  \n",
      "417     Michael      3     Michael_3      small  NaN  \n",
      "\n",
      "[1309 rows x 18 columns]\n"
     ]
    }
   ],
   "source": [
    "print(embarlk_fare)\n",
    "embarlk_fare.dropna(subset = ['Embarked'])\n",
    "print(full_data)"
   ]
  },
  {
   "cell_type": "code",
   "execution_count": 161,
   "metadata": {},
   "outputs": [
    {
     "data": {
      "image/png": "[encoded data removed]",
      "text/plain": [
       "<Figure size 432x288 with 1 Axes>"
      ]
     },
     "metadata": {},
     "output_type": "display_data"
    }
   ],
   "source": [
    "ax = sns.boxplot(x = 'Embarked', y = 'Fare', hue = 'Pclass', data = embarlk_fare)"
   ]
  },
  {
   "cell_type": "code",
   "execution_count": 162,
   "metadata": {},
   "outputs": [
    {
     "name": "stdout",
     "output_type": "stream",
     "text": [
      "      Age Cabin Embarked  Fare                                       Name  \\\n",
      "61   38.0   B28      NaN  80.0                        Icard, Miss. Amelie   \n",
      "829  62.0   B28      NaN  80.0  Stone, Mrs. George Nelson (Martha Evelyn)   \n",
      "\n",
      "     Parch  PassengerId  Pclass     Sex  SibSp  Survived  Ticket Title  \\\n",
      "61       0           62       1  female      0       1.0  113572  Miss   \n",
      "829      0          830       1  female      0       1.0  113572   Mrs   \n",
      "\n",
      "    Surname  Fsize    Family     FsizeD Deck  \n",
      "61   Amelie      1  Amelie_1  singleton    B  \n",
      "829  George      1  George_1  singleton    B  \n"
     ]
    }
   ],
   "source": [
    "print(full_data[full_data['Embarked'].isnull()])"
   ]
  },
  {
   "cell_type": "code",
   "execution_count": 163,
   "metadata": {},
   "outputs": [
    {
     "name": "stderr",
     "output_type": "stream",
     "text": [
      "C:\\Users\\nraj0\\Anaconda3\\lib\\site-packages\\ipykernel_launcher.py:1: SettingWithCopyWarning: \n",
      "A value is trying to be set on a copy of a slice from a DataFrame\n",
      "\n",
      "See the caveats in the documentation: http://pandas.pydata.org/pandas-docs/stable/indexing.html#indexing-view-versus-copy\n",
      "  \"\"\"Entry point for launching an IPython kernel.\n"
     ]
    }
   ],
   "source": [
    "full_data['Embarked'][full_data['Embarked'].isnull()]  = 'C'"
   ]
  },
  {
   "cell_type": "code",
   "execution_count": 164,
   "metadata": {},
   "outputs": [
    {
     "name": "stdout",
     "output_type": "stream",
     "text": [
      "Empty DataFrame\n",
      "Columns: [Age, Cabin, Embarked, Fare, Name, Parch, PassengerId, Pclass, Sex, SibSp, Survived, Ticket, Title, Surname, Fsize, Family, FsizeD, Deck]\n",
      "Index: []\n"
     ]
    }
   ],
   "source": [
    "print(full_data[full_data['Embarked'].isnull()])"
   ]
  },
  {
   "cell_type": "code",
   "execution_count": 165,
   "metadata": {},
   "outputs": [
    {
     "data": {
      "text/plain": [
       "Age                          60.5\n",
       "Cabin                         NaN\n",
       "Embarked                        S\n",
       "Fare                          NaN\n",
       "Name           Storey, Mr. Thomas\n",
       "Parch                           0\n",
       "PassengerId                  1044\n",
       "Pclass                          3\n",
       "Sex                          male\n",
       "SibSp                           0\n",
       "Survived                      NaN\n",
       "Ticket                       3701\n",
       "Title                          Mr\n",
       "Surname                    Thomas\n",
       "Fsize                           1\n",
       "Family                   Thomas_1\n",
       "FsizeD                  singleton\n",
       "Deck                          NaN\n",
       "Name: 152, dtype: object"
      ]
     },
     "execution_count": 165,
     "metadata": {},
     "output_type": "execute_result"
    }
   ],
   "source": [
    "full_data.iloc[1043]"
   ]
  },
  {
   "cell_type": "code",
   "execution_count": 166,
   "metadata": {},
   "outputs": [],
   "source": [
    "Pclass_3 = full_data['Pclass'] == 3\n",
    "Embarked_S = full_data['Embarked'] == 'S'\n",
    "Pclass_3_Embarked_S = full_data[Pclass_3 & Embarked_S]"
   ]
  },
  {
   "cell_type": "code",
   "execution_count": 167,
   "metadata": {},
   "outputs": [
    {
     "name": "stderr",
     "output_type": "stream",
     "text": [
      "C:\\Users\\nraj0\\Anaconda3\\lib\\site-packages\\statsmodels\\nonparametric\\kde.py:448: RuntimeWarning: invalid value encountered in greater\n",
      "  X = X[np.logical_and(X > clip[0], X < clip[1])] # won't work for two columns.\n",
      "C:\\Users\\nraj0\\Anaconda3\\lib\\site-packages\\statsmodels\\nonparametric\\kde.py:448: RuntimeWarning: invalid value encountered in less\n",
      "  X = X[np.logical_and(X > clip[0], X < clip[1])] # won't work for two columns.\n"
     ]
    },
    {
     "data": {
      "text/plain": [
       "<matplotlib.lines.Line2D at 0x23409ad8eb8>"
      ]
     },
     "execution_count": 167,
     "metadata": {},
     "output_type": "execute_result"
    },
    {
     "data": {
      "image/png": "[encoded data removed]",
      "text/plain": [
       "<Figure size 432x288 with 1 Axes>"
      ]
     },
     "metadata": {},
     "output_type": "display_data"
    }
   ],
   "source": [
    "sns.distplot(Pclass_3_Embarked_S['Fare'], hist=False, kde = True, rug = True)\n",
    "plt.title(\"Density Plot with Rug Plot for Fare distribution\")\n",
    "plt.xlabel('Fare: $')\n",
    "plt.ylabel('Density')\n",
    "plt.axvline(Pclass_3_Embarked_S['Fare'].median(), color='red', linestyle='dashed', linewidth=2)"
   ]
  },
  {
   "cell_type": "markdown",
   "metadata": {},
   "source": [
    "We can see from the above graph that it is reasonable to replace the NA Fare value with median for their class and embarkment."
   ]
  },
  {
   "cell_type": "code",
   "execution_count": 168,
   "metadata": {},
   "outputs": [
    {
     "name": "stderr",
     "output_type": "stream",
     "text": [
      "C:\\Users\\nraj0\\Anaconda3\\lib\\site-packages\\pandas\\core\\indexing.py:189: SettingWithCopyWarning: \n",
      "A value is trying to be set on a copy of a slice from a DataFrame\n",
      "\n",
      "See the caveats in the documentation: http://pandas.pydata.org/pandas-docs/stable/indexing.html#indexing-view-versus-copy\n",
      "  self._setitem_with_indexer(indexer, value)\n"
     ]
    }
   ],
   "source": [
    "full_data['Fare'].iloc[1043] = Pclass_3_Embarked_S['Fare'].median()"
   ]
  },
  {
   "cell_type": "code",
   "execution_count": 169,
   "metadata": {},
   "outputs": [
    {
     "name": "stdout",
     "output_type": "stream",
     "text": [
      "8.05\n"
     ]
    }
   ],
   "source": [
    "print(full_data['Fare'].iloc[1043])"
   ]
  },
  {
   "cell_type": "code",
   "execution_count": null,
   "metadata": {},
   "outputs": [],
   "source": [
    "full_data['Age'].isna().sum()"
   ]
  },
  {
   "cell_type": "code",
   "execution_count": null,
   "metadata": {},
   "outputs": [],
   "source": [
    "from fancyimpute import mice as MICE"
   ]
  },
  {
   "cell_type": "code",
   "execution_count": 173,
   "metadata": {},
   "outputs": [
    {
     "data": {
      "text/plain": [
       "Age            float64\n",
       "Cabin           object\n",
       "Embarked        object\n",
       "Fare           float64\n",
       "Name            object\n",
       "Parch            int64\n",
       "PassengerId      int64\n",
       "Pclass           int64\n",
       "Sex             object\n",
       "SibSp            int64\n",
       "Survived       float64\n",
       "Ticket          object\n",
       "Title           object\n",
       "Surname         object\n",
       "Fsize            int64\n",
       "Family          object\n",
       "FsizeD          object\n",
       "Deck            object\n",
       "dtype: object"
      ]
     },
     "execution_count": 173,
     "metadata": {},
     "output_type": "execute_result"
    }
   ],
   "source": [
    "full_data.dtypes"
   ]
  },
  {
   "cell_type": "code",
   "execution_count": 174,
   "metadata": {},
   "outputs": [
    {
     "data": {
      "text/html": [
       "<div>\n",
       "<style scoped>\n",
       "    .dataframe tbody tr th:only-of-type {\n",
       "        vertical-align: middle;\n",
       "    }\n",
       "\n",
       "    .dataframe tbody tr th {\n",
       "        vertical-align: top;\n",
       "    }\n",
       "\n",
       "    .dataframe thead th {\n",
       "        text-align: right;\n",
       "    }\n",
       "</style>\n",
       "<table border=\"1\" class=\"dataframe\">\n",
       "  <thead>\n",
       "    <tr style=\"text-align: right;\">\n",
       "      <th></th>\n",
       "      <th>Age</th>\n",
       "      <th>Cabin</th>\n",
       "      <th>Embarked</th>\n",
       "      <th>Fare</th>\n",
       "      <th>Name</th>\n",
       "      <th>Parch</th>\n",
       "      <th>PassengerId</th>\n",
       "      <th>Pclass</th>\n",
       "      <th>Sex</th>\n",
       "      <th>SibSp</th>\n",
       "      <th>Survived</th>\n",
       "      <th>Ticket</th>\n",
       "      <th>Title</th>\n",
       "      <th>Surname</th>\n",
       "      <th>Fsize</th>\n",
       "      <th>Family</th>\n",
       "      <th>FsizeD</th>\n",
       "      <th>Deck</th>\n",
       "    </tr>\n",
       "  </thead>\n",
       "  <tbody>\n",
       "    <tr>\n",
       "      <th>0</th>\n",
       "      <td>22.0</td>\n",
       "      <td>NaN</td>\n",
       "      <td>S</td>\n",
       "      <td>7.2500</td>\n",
       "      <td>Braund, Mr. Owen Harris</td>\n",
       "      <td>0</td>\n",
       "      <td>1</td>\n",
       "      <td>3</td>\n",
       "      <td>male</td>\n",
       "      <td>1</td>\n",
       "      <td>0.0</td>\n",
       "      <td>A/5 21171</td>\n",
       "      <td>Mr</td>\n",
       "      <td>Owen</td>\n",
       "      <td>2</td>\n",
       "      <td>Owen_2</td>\n",
       "      <td>small</td>\n",
       "      <td>NaN</td>\n",
       "    </tr>\n",
       "    <tr>\n",
       "      <th>1</th>\n",
       "      <td>38.0</td>\n",
       "      <td>C85</td>\n",
       "      <td>C</td>\n",
       "      <td>71.2833</td>\n",
       "      <td>Cumings, Mrs. John Bradley (Florence Briggs Th...</td>\n",
       "      <td>0</td>\n",
       "      <td>2</td>\n",
       "      <td>1</td>\n",
       "      <td>female</td>\n",
       "      <td>1</td>\n",
       "      <td>1.0</td>\n",
       "      <td>PC 17599</td>\n",
       "      <td>Mrs</td>\n",
       "      <td>John</td>\n",
       "      <td>2</td>\n",
       "      <td>John_2</td>\n",
       "      <td>small</td>\n",
       "      <td>C</td>\n",
       "    </tr>\n",
       "    <tr>\n",
       "      <th>2</th>\n",
       "      <td>26.0</td>\n",
       "      <td>NaN</td>\n",
       "      <td>S</td>\n",
       "      <td>7.9250</td>\n",
       "      <td>Heikkinen, Miss. Laina</td>\n",
       "      <td>0</td>\n",
       "      <td>3</td>\n",
       "      <td>3</td>\n",
       "      <td>female</td>\n",
       "      <td>0</td>\n",
       "      <td>1.0</td>\n",
       "      <td>STON/O2. 3101282</td>\n",
       "      <td>Miss</td>\n",
       "      <td>Laina</td>\n",
       "      <td>1</td>\n",
       "      <td>Laina_1</td>\n",
       "      <td>singleton</td>\n",
       "      <td>NaN</td>\n",
       "    </tr>\n",
       "    <tr>\n",
       "      <th>3</th>\n",
       "      <td>35.0</td>\n",
       "      <td>C123</td>\n",
       "      <td>S</td>\n",
       "      <td>53.1000</td>\n",
       "      <td>Futrelle, Mrs. Jacques Heath (Lily May Peel)</td>\n",
       "      <td>0</td>\n",
       "      <td>4</td>\n",
       "      <td>1</td>\n",
       "      <td>female</td>\n",
       "      <td>1</td>\n",
       "      <td>1.0</td>\n",
       "      <td>113803</td>\n",
       "      <td>Mrs</td>\n",
       "      <td>Jacques</td>\n",
       "      <td>2</td>\n",
       "      <td>Jacques_2</td>\n",
       "      <td>small</td>\n",
       "      <td>C</td>\n",
       "    </tr>\n",
       "    <tr>\n",
       "      <th>4</th>\n",
       "      <td>35.0</td>\n",
       "      <td>NaN</td>\n",
       "      <td>S</td>\n",
       "      <td>8.0500</td>\n",
       "      <td>Allen, Mr. William Henry</td>\n",
       "      <td>0</td>\n",
       "      <td>5</td>\n",
       "      <td>3</td>\n",
       "      <td>male</td>\n",
       "      <td>0</td>\n",
       "      <td>0.0</td>\n",
       "      <td>373450</td>\n",
       "      <td>Mr</td>\n",
       "      <td>William</td>\n",
       "      <td>1</td>\n",
       "      <td>William_1</td>\n",
       "      <td>singleton</td>\n",
       "      <td>NaN</td>\n",
       "    </tr>\n",
       "  </tbody>\n",
       "</table>\n",
       "</div>"
      ],
      "text/plain": [
       "    Age Cabin Embarked     Fare  \\\n",
       "0  22.0   NaN        S   7.2500   \n",
       "1  38.0   C85        C  71.2833   \n",
       "2  26.0   NaN        S   7.9250   \n",
       "3  35.0  C123        S  53.1000   \n",
       "4  35.0   NaN        S   8.0500   \n",
       "\n",
       "                                                Name  Parch  PassengerId  \\\n",
       "0                            Braund, Mr. Owen Harris      0            1   \n",
       "1  Cumings, Mrs. John Bradley (Florence Briggs Th...      0            2   \n",
       "2                             Heikkinen, Miss. Laina      0            3   \n",
       "3       Futrelle, Mrs. Jacques Heath (Lily May Peel)      0            4   \n",
       "4                           Allen, Mr. William Henry      0            5   \n",
       "\n",
       "   Pclass     Sex  SibSp  Survived            Ticket Title  Surname  Fsize  \\\n",
       "0       3    male      1       0.0         A/5 21171    Mr     Owen      2   \n",
       "1       1  female      1       1.0          PC 17599   Mrs     John      2   \n",
       "2       3  female      0       1.0  STON/O2. 3101282  Miss    Laina      1   \n",
       "3       1  female      1       1.0            113803   Mrs  Jacques      2   \n",
       "4       3    male      0       0.0            373450    Mr  William      1   \n",
       "\n",
       "      Family     FsizeD Deck  \n",
       "0     Owen_2      small  NaN  \n",
       "1     John_2      small    C  \n",
       "2    Laina_1  singleton  NaN  \n",
       "3  Jacques_2      small    C  \n",
       "4  William_1  singleton  NaN  "
      ]
     },
     "execution_count": 174,
     "metadata": {},
     "output_type": "execute_result"
    }
   ],
   "source": [
    "full_data.head()"
   ]
  },
  {
   "cell_type": "code",
   "execution_count": 175,
   "metadata": {},
   "outputs": [
    {
     "data": {
      "text/plain": [
       "Age             263\n",
       "Cabin          1014\n",
       "Embarked          0\n",
       "Fare              0\n",
       "Name              0\n",
       "Parch             0\n",
       "PassengerId       0\n",
       "Pclass            0\n",
       "Sex               0\n",
       "SibSp             0\n",
       "Survived        418\n",
       "Ticket            0\n",
       "Title             0\n",
       "Surname           0\n",
       "Fsize             0\n",
       "Family            0\n",
       "FsizeD            0\n",
       "Deck           1014\n",
       "dtype: int64"
      ]
     },
     "execution_count": 175,
     "metadata": {},
     "output_type": "execute_result"
    }
   ],
   "source": [
    "full_data.isna().sum()"
   ]
  },
  {
   "cell_type": "code",
   "execution_count": 176,
   "metadata": {},
   "outputs": [
    {
     "data": {
      "text/plain": [
       "array([nan, 'C', 'E', 'G', 'D', 'A', 'B', 'F', 'T'], dtype=object)"
      ]
     },
     "execution_count": 176,
     "metadata": {},
     "output_type": "execute_result"
    }
   ],
   "source": [
    "full_data.Deck.unique()"
   ]
  },
  {
   "cell_type": "code",
   "execution_count": null,
   "metadata": {},
   "outputs": [],
   "source": []
  },
  {
   "cell_type": "code",
   "execution_count": 177,
   "metadata": {},
   "outputs": [],
   "source": [
    "factor_vars = full_data['Age']"
   ]
  },
  {
   "cell_type": "code",
   "execution_count": null,
   "metadata": {
    "scrolled": true
   },
   "outputs": [],
   "source": []
  },
  {
   "cell_type": "code",
   "execution_count": 178,
   "metadata": {},
   "outputs": [
    {
     "data": {
      "text/plain": [
       "Index(['Age', 'Cabin', 'Embarked', 'Fare', 'Name', 'Parch', 'PassengerId',\n",
       "       'Pclass', 'Sex', 'SibSp', 'Survived', 'Ticket', 'Title', 'Surname',\n",
       "       'Fsize', 'Family', 'FsizeD', 'Deck'],\n",
       "      dtype='object')"
      ]
     },
     "execution_count": 178,
     "metadata": {},
     "output_type": "execute_result"
    }
   ],
   "source": [
    "full_data.columns"
   ]
  },
  {
   "cell_type": "code",
   "execution_count": 179,
   "metadata": {},
   "outputs": [],
   "source": [
    "cols = full_data.drop(columns={\n",
    "    'Cabin', 'Survived','Deck'\n",
    "})"
   ]
  },
  {
   "cell_type": "code",
   "execution_count": 180,
   "metadata": {},
   "outputs": [
    {
     "data": {
      "text/plain": [
       "(1309, 15)"
      ]
     },
     "execution_count": 180,
     "metadata": {},
     "output_type": "execute_result"
    }
   ],
   "source": [
    "cols.shape"
   ]
  },
  {
   "cell_type": "code",
   "execution_count": 181,
   "metadata": {},
   "outputs": [
    {
     "data": {
      "text/plain": [
       "(1309, 18)"
      ]
     },
     "execution_count": 181,
     "metadata": {},
     "output_type": "execute_result"
    }
   ],
   "source": [
    "full_data.shape"
   ]
  },
  {
   "cell_type": "code",
   "execution_count": 2,
   "metadata": {},
   "outputs": [
    {
     "ename": "ModuleNotFoundError",
     "evalue": "No module named 'fancyimpute'",
     "output_type": "error",
     "traceback": [
      "\u001b[1;31m---------------------------------------------------------------------------\u001b[0m",
      "\u001b[1;31mModuleNotFoundError\u001b[0m                       Traceback (most recent call last)",
      "\u001b[1;32m<ipython-input-2-11fbb1f9a821>\u001b[0m in \u001b[0;36m<module>\u001b[1;34m()\u001b[0m\n\u001b[1;32m----> 1\u001b[1;33m \u001b[1;32mfrom\u001b[0m \u001b[0mfancyimpute\u001b[0m \u001b[1;32mimport\u001b[0m \u001b[0mmice\u001b[0m\u001b[1;33m\u001b[0m\u001b[0m\n\u001b[0m",
      "\u001b[1;31mModuleNotFoundError\u001b[0m: No module named 'fancyimpute'"
     ]
    }
   ],
   "source": [
    "from fancyimpute import mice"
   ]
  },
  {
   "cell_type": "code",
   "execution_count": null,
   "metadata": {},
   "outputs": [],
   "source": [
    "from fancyimpute import IterativeImputer"
   ]
  },
  {
   "cell_type": "code",
   "execution_count": 187,
   "metadata": {},
   "outputs": [],
   "source": [
    "n_imputations = 5\n",
    "XY_completed = []"
   ]
  },
  {
   "cell_type": "code",
   "execution_count": null,
   "metadata": {},
   "outputs": [],
   "source": [
    "for i in range(n_imputations):\n",
    "    imputer = IterativeImputer(n_iter=5, sample_posterior=True, random_state=i)"
   ]
  },
  {
   "cell_type": "code",
   "execution_count": 61,
   "metadata": {},
   "outputs": [
    {
     "data": {
      "text/plain": [
       "Age            float64\n",
       "Embarked        object\n",
       "Fare           float64\n",
       "Name            object\n",
       "Parch            int64\n",
       "PassengerId      int64\n",
       "Pclass           int64\n",
       "Sex             object\n",
       "SibSp            int64\n",
       "Ticket          object\n",
       "Title           object\n",
       "Surname         object\n",
       "Fsize            int64\n",
       "Family          object\n",
       "FsizeD          object\n",
       "dtype: object"
      ]
     },
     "execution_count": 61,
     "metadata": {},
     "output_type": "execute_result"
    }
   ],
   "source": [
    "cols.dtypes"
   ]
  },
  {
   "cell_type": "code",
   "execution_count": 62,
   "metadata": {},
   "outputs": [
    {
     "data": {
      "text/html": [
       "<div>\n",
       "<style scoped>\n",
       "    .dataframe tbody tr th:only-of-type {\n",
       "        vertical-align: middle;\n",
       "    }\n",
       "\n",
       "    .dataframe tbody tr th {\n",
       "        vertical-align: top;\n",
       "    }\n",
       "\n",
       "    .dataframe thead th {\n",
       "        text-align: right;\n",
       "    }\n",
       "</style>\n",
       "<table border=\"1\" class=\"dataframe\">\n",
       "  <thead>\n",
       "    <tr style=\"text-align: right;\">\n",
       "      <th></th>\n",
       "      <th>Age</th>\n",
       "      <th>Embarked</th>\n",
       "      <th>Fare</th>\n",
       "      <th>Name</th>\n",
       "      <th>Parch</th>\n",
       "      <th>PassengerId</th>\n",
       "      <th>Pclass</th>\n",
       "      <th>Sex</th>\n",
       "      <th>SibSp</th>\n",
       "      <th>Ticket</th>\n",
       "      <th>Title</th>\n",
       "      <th>Surname</th>\n",
       "      <th>Fsize</th>\n",
       "      <th>Family</th>\n",
       "      <th>FsizeD</th>\n",
       "    </tr>\n",
       "  </thead>\n",
       "  <tbody>\n",
       "    <tr>\n",
       "      <th>0</th>\n",
       "      <td>22.0</td>\n",
       "      <td>S</td>\n",
       "      <td>7.2500</td>\n",
       "      <td>Braund, Mr. Owen Harris</td>\n",
       "      <td>0</td>\n",
       "      <td>1</td>\n",
       "      <td>3</td>\n",
       "      <td>male</td>\n",
       "      <td>1</td>\n",
       "      <td>A/5 21171</td>\n",
       "      <td>Mr</td>\n",
       "      <td>Owen</td>\n",
       "      <td>2</td>\n",
       "      <td>Owen_2</td>\n",
       "      <td>small</td>\n",
       "    </tr>\n",
       "    <tr>\n",
       "      <th>1</th>\n",
       "      <td>38.0</td>\n",
       "      <td>C</td>\n",
       "      <td>71.2833</td>\n",
       "      <td>Cumings, Mrs. John Bradley (Florence Briggs Th...</td>\n",
       "      <td>0</td>\n",
       "      <td>2</td>\n",
       "      <td>1</td>\n",
       "      <td>female</td>\n",
       "      <td>1</td>\n",
       "      <td>PC 17599</td>\n",
       "      <td>Mrs</td>\n",
       "      <td>John</td>\n",
       "      <td>2</td>\n",
       "      <td>John_2</td>\n",
       "      <td>small</td>\n",
       "    </tr>\n",
       "    <tr>\n",
       "      <th>2</th>\n",
       "      <td>26.0</td>\n",
       "      <td>S</td>\n",
       "      <td>7.9250</td>\n",
       "      <td>Heikkinen, Miss. Laina</td>\n",
       "      <td>0</td>\n",
       "      <td>3</td>\n",
       "      <td>3</td>\n",
       "      <td>female</td>\n",
       "      <td>0</td>\n",
       "      <td>STON/O2. 3101282</td>\n",
       "      <td>Miss</td>\n",
       "      <td>Laina</td>\n",
       "      <td>1</td>\n",
       "      <td>Laina_1</td>\n",
       "      <td>singleton</td>\n",
       "    </tr>\n",
       "    <tr>\n",
       "      <th>3</th>\n",
       "      <td>35.0</td>\n",
       "      <td>S</td>\n",
       "      <td>53.1000</td>\n",
       "      <td>Futrelle, Mrs. Jacques Heath (Lily May Peel)</td>\n",
       "      <td>0</td>\n",
       "      <td>4</td>\n",
       "      <td>1</td>\n",
       "      <td>female</td>\n",
       "      <td>1</td>\n",
       "      <td>113803</td>\n",
       "      <td>Mrs</td>\n",
       "      <td>Jacques</td>\n",
       "      <td>2</td>\n",
       "      <td>Jacques_2</td>\n",
       "      <td>small</td>\n",
       "    </tr>\n",
       "    <tr>\n",
       "      <th>4</th>\n",
       "      <td>35.0</td>\n",
       "      <td>S</td>\n",
       "      <td>8.0500</td>\n",
       "      <td>Allen, Mr. William Henry</td>\n",
       "      <td>0</td>\n",
       "      <td>5</td>\n",
       "      <td>3</td>\n",
       "      <td>male</td>\n",
       "      <td>0</td>\n",
       "      <td>373450</td>\n",
       "      <td>Mr</td>\n",
       "      <td>William</td>\n",
       "      <td>1</td>\n",
       "      <td>William_1</td>\n",
       "      <td>singleton</td>\n",
       "    </tr>\n",
       "  </tbody>\n",
       "</table>\n",
       "</div>"
      ],
      "text/plain": [
       "    Age Embarked     Fare                                               Name  \\\n",
       "0  22.0        S   7.2500                            Braund, Mr. Owen Harris   \n",
       "1  38.0        C  71.2833  Cumings, Mrs. John Bradley (Florence Briggs Th...   \n",
       "2  26.0        S   7.9250                             Heikkinen, Miss. Laina   \n",
       "3  35.0        S  53.1000       Futrelle, Mrs. Jacques Heath (Lily May Peel)   \n",
       "4  35.0        S   8.0500                           Allen, Mr. William Henry   \n",
       "\n",
       "   Parch  PassengerId  Pclass     Sex  SibSp            Ticket Title  Surname  \\\n",
       "0      0            1       3    male      1         A/5 21171    Mr     Owen   \n",
       "1      0            2       1  female      1          PC 17599   Mrs     John   \n",
       "2      0            3       3  female      0  STON/O2. 3101282  Miss    Laina   \n",
       "3      0            4       1  female      1            113803   Mrs  Jacques   \n",
       "4      0            5       3    male      0            373450    Mr  William   \n",
       "\n",
       "   Fsize     Family     FsizeD  \n",
       "0      2     Owen_2      small  \n",
       "1      2     John_2      small  \n",
       "2      1    Laina_1  singleton  \n",
       "3      2  Jacques_2      small  \n",
       "4      1  William_1  singleton  "
      ]
     },
     "execution_count": 62,
     "metadata": {},
     "output_type": "execute_result"
    }
   ],
   "source": [
    "cols.head()"
   ]
  },
  {
   "cell_type": "code",
   "execution_count": 63,
   "metadata": {},
   "outputs": [
    {
     "data": {
      "text/plain": [
       "Index(['Age', 'Embarked', 'Fare', 'Name', 'Parch', 'PassengerId', 'Pclass',\n",
       "       'Sex', 'SibSp', 'Ticket', 'Title', 'Surname', 'Fsize', 'Family',\n",
       "       'FsizeD'],\n",
       "      dtype='object')"
      ]
     },
     "execution_count": 63,
     "metadata": {},
     "output_type": "execute_result"
    }
   ],
   "source": [
    "cols.columns"
   ]
  },
  {
   "cell_type": "code",
   "execution_count": 64,
   "metadata": {},
   "outputs": [],
   "source": [
    "XY_completed.append(imputer.fit_transform(cols.drop(columns={\n",
    "    'Embarked','Name','Sex','Ticket', 'Title', 'Surname', 'Family',\n",
    "       'FsizeD'\n",
    "})))\n",
    "\n",
    "XY_completed_mean = np.mean(XY_completed, 0)"
   ]
  },
  {
   "cell_type": "code",
   "execution_count": 65,
   "metadata": {},
   "outputs": [
    {
     "data": {
      "text/plain": [
       "(1309, 7)"
      ]
     },
     "execution_count": 65,
     "metadata": {},
     "output_type": "execute_result"
    }
   ],
   "source": [
    "XY_completed_mean.shape"
   ]
  },
  {
   "cell_type": "code",
   "execution_count": 66,
   "metadata": {},
   "outputs": [],
   "source": [
    "xxx = cols.columns"
   ]
  },
  {
   "cell_type": "code",
   "execution_count": 67,
   "metadata": {},
   "outputs": [
    {
     "data": {
      "text/plain": [
       "Index(['Age', 'Embarked', 'Fare', 'Name', 'Parch', 'PassengerId', 'Pclass',\n",
       "       'Sex', 'SibSp', 'Ticket', 'Title', 'Surname', 'Fsize', 'Family',\n",
       "       'FsizeD'],\n",
       "      dtype='object')"
      ]
     },
     "execution_count": 67,
     "metadata": {},
     "output_type": "execute_result"
    }
   ],
   "source": [
    "xxx"
   ]
  },
  {
   "cell_type": "code",
   "execution_count": 68,
   "metadata": {},
   "outputs": [
    {
     "data": {
      "text/plain": [
       "Index(['Age', 'Fare', 'Parch', 'PassengerId', 'Pclass', 'SibSp', 'Fsize'], dtype='object')"
      ]
     },
     "execution_count": 68,
     "metadata": {},
     "output_type": "execute_result"
    }
   ],
   "source": [
    "xxx.drop({'Embarked','Name','Sex','Ticket', 'Title', 'Surname', 'Family',\n",
    "       'FsizeD'\n",
    "})"
   ]
  },
  {
   "cell_type": "code",
   "execution_count": 69,
   "metadata": {},
   "outputs": [],
   "source": [
    "newdf = pd.DataFrame(data=XY_completed_mean,\n",
    "                    columns = xxx.drop({    'Embarked','Name','Sex','Ticket', 'Title', 'Surname', 'Family',\n",
    "       'FsizeD'\n",
    "}),index = cols.index)\n",
    "                                       "
   ]
  },
  {
   "cell_type": "code",
   "execution_count": 70,
   "metadata": {},
   "outputs": [
    {
     "data": {
      "text/html": [
       "<div>\n",
       "<style scoped>\n",
       "    .dataframe tbody tr th:only-of-type {\n",
       "        vertical-align: middle;\n",
       "    }\n",
       "\n",
       "    .dataframe tbody tr th {\n",
       "        vertical-align: top;\n",
       "    }\n",
       "\n",
       "    .dataframe thead th {\n",
       "        text-align: right;\n",
       "    }\n",
       "</style>\n",
       "<table border=\"1\" class=\"dataframe\">\n",
       "  <thead>\n",
       "    <tr style=\"text-align: right;\">\n",
       "      <th></th>\n",
       "      <th>Age</th>\n",
       "      <th>Fare</th>\n",
       "      <th>Parch</th>\n",
       "      <th>PassengerId</th>\n",
       "      <th>Pclass</th>\n",
       "      <th>SibSp</th>\n",
       "      <th>Fsize</th>\n",
       "    </tr>\n",
       "  </thead>\n",
       "  <tbody>\n",
       "    <tr>\n",
       "      <th>0</th>\n",
       "      <td>22.0</td>\n",
       "      <td>7.2500</td>\n",
       "      <td>0.0</td>\n",
       "      <td>1.0</td>\n",
       "      <td>3.0</td>\n",
       "      <td>1.0</td>\n",
       "      <td>2.0</td>\n",
       "    </tr>\n",
       "    <tr>\n",
       "      <th>1</th>\n",
       "      <td>38.0</td>\n",
       "      <td>71.2833</td>\n",
       "      <td>0.0</td>\n",
       "      <td>2.0</td>\n",
       "      <td>1.0</td>\n",
       "      <td>1.0</td>\n",
       "      <td>2.0</td>\n",
       "    </tr>\n",
       "    <tr>\n",
       "      <th>2</th>\n",
       "      <td>26.0</td>\n",
       "      <td>7.9250</td>\n",
       "      <td>0.0</td>\n",
       "      <td>3.0</td>\n",
       "      <td>3.0</td>\n",
       "      <td>0.0</td>\n",
       "      <td>1.0</td>\n",
       "    </tr>\n",
       "    <tr>\n",
       "      <th>3</th>\n",
       "      <td>35.0</td>\n",
       "      <td>53.1000</td>\n",
       "      <td>0.0</td>\n",
       "      <td>4.0</td>\n",
       "      <td>1.0</td>\n",
       "      <td>1.0</td>\n",
       "      <td>2.0</td>\n",
       "    </tr>\n",
       "    <tr>\n",
       "      <th>4</th>\n",
       "      <td>35.0</td>\n",
       "      <td>8.0500</td>\n",
       "      <td>0.0</td>\n",
       "      <td>5.0</td>\n",
       "      <td>3.0</td>\n",
       "      <td>0.0</td>\n",
       "      <td>1.0</td>\n",
       "    </tr>\n",
       "  </tbody>\n",
       "</table>\n",
       "</div>"
      ],
      "text/plain": [
       "    Age     Fare  Parch  PassengerId  Pclass  SibSp  Fsize\n",
       "0  22.0   7.2500    0.0          1.0     3.0    1.0    2.0\n",
       "1  38.0  71.2833    0.0          2.0     1.0    1.0    2.0\n",
       "2  26.0   7.9250    0.0          3.0     3.0    0.0    1.0\n",
       "3  35.0  53.1000    0.0          4.0     1.0    1.0    2.0\n",
       "4  35.0   8.0500    0.0          5.0     3.0    0.0    1.0"
      ]
     },
     "execution_count": 70,
     "metadata": {},
     "output_type": "execute_result"
    }
   ],
   "source": [
    "newdf.head()"
   ]
  },
  {
   "cell_type": "code",
   "execution_count": 71,
   "metadata": {},
   "outputs": [
    {
     "data": {
      "text/plain": [
       "Age            0\n",
       "Fare           0\n",
       "Parch          0\n",
       "PassengerId    0\n",
       "Pclass         0\n",
       "SibSp          0\n",
       "Fsize          0\n",
       "dtype: int64"
      ]
     },
     "execution_count": 71,
     "metadata": {},
     "output_type": "execute_result"
    }
   ],
   "source": [
    "newdf.isna().sum()"
   ]
  },
  {
   "cell_type": "code",
   "execution_count": 72,
   "metadata": {},
   "outputs": [
    {
     "data": {
      "text/plain": [
       "Int64Index([  0,   1,   2,   3,   4,   5,   6,   7,   8,   9,\n",
       "            ...\n",
       "            408, 409, 410, 411, 412, 413, 414, 415, 416, 417],\n",
       "           dtype='int64', length=1309)"
      ]
     },
     "execution_count": 72,
     "metadata": {},
     "output_type": "execute_result"
    }
   ],
   "source": [
    "cols.index"
   ]
  },
  {
   "cell_type": "code",
   "execution_count": 73,
   "metadata": {},
   "outputs": [
    {
     "data": {
      "text/plain": [
       "Int64Index([  0,   1,   2,   3,   4,   5,   6,   7,   8,   9,\n",
       "            ...\n",
       "            408, 409, 410, 411, 412, 413, 414, 415, 416, 417],\n",
       "           dtype='int64', length=1309)"
      ]
     },
     "execution_count": 73,
     "metadata": {},
     "output_type": "execute_result"
    }
   ],
   "source": [
    "newdf.index"
   ]
  },
  {
   "cell_type": "code",
   "execution_count": 74,
   "metadata": {},
   "outputs": [],
   "source": [
    "final_df = pd.merge(newdf,cols.drop(columns={'Fare', 'Parch', 'PassengerId', 'Pclass', 'SibSp', 'Fsize'\n",
    "}),on=cols.index,how='outer',indicator='Exists')"
   ]
  },
  {
   "cell_type": "code",
   "execution_count": 75,
   "metadata": {},
   "outputs": [],
   "source": [
    "cols.Age = newdf.Age"
   ]
  },
  {
   "cell_type": "code",
   "execution_count": 76,
   "metadata": {},
   "outputs": [
    {
     "data": {
      "text/plain": [
       "Age            0\n",
       "Embarked       0\n",
       "Fare           0\n",
       "Name           0\n",
       "Parch          0\n",
       "PassengerId    0\n",
       "Pclass         0\n",
       "Sex            0\n",
       "SibSp          0\n",
       "Ticket         0\n",
       "Title          0\n",
       "Surname        0\n",
       "Fsize          0\n",
       "Family         0\n",
       "FsizeD         0\n",
       "dtype: int64"
      ]
     },
     "execution_count": 76,
     "metadata": {},
     "output_type": "execute_result"
    }
   ],
   "source": [
    "cols.isna().sum()"
   ]
  },
  {
   "cell_type": "code",
   "execution_count": 77,
   "metadata": {},
   "outputs": [
    {
     "data": {
      "text/html": [
       "<div>\n",
       "<style scoped>\n",
       "    .dataframe tbody tr th:only-of-type {\n",
       "        vertical-align: middle;\n",
       "    }\n",
       "\n",
       "    .dataframe tbody tr th {\n",
       "        vertical-align: top;\n",
       "    }\n",
       "\n",
       "    .dataframe thead th {\n",
       "        text-align: right;\n",
       "    }\n",
       "</style>\n",
       "<table border=\"1\" class=\"dataframe\">\n",
       "  <thead>\n",
       "    <tr style=\"text-align: right;\">\n",
       "      <th></th>\n",
       "      <th>Age</th>\n",
       "      <th>Embarked</th>\n",
       "      <th>Fare</th>\n",
       "      <th>Name</th>\n",
       "      <th>Parch</th>\n",
       "      <th>PassengerId</th>\n",
       "      <th>Pclass</th>\n",
       "      <th>Sex</th>\n",
       "      <th>SibSp</th>\n",
       "      <th>Ticket</th>\n",
       "      <th>Title</th>\n",
       "      <th>Surname</th>\n",
       "      <th>Fsize</th>\n",
       "      <th>Family</th>\n",
       "      <th>FsizeD</th>\n",
       "    </tr>\n",
       "  </thead>\n",
       "  <tbody>\n",
       "    <tr>\n",
       "      <th>0</th>\n",
       "      <td>22.0</td>\n",
       "      <td>S</td>\n",
       "      <td>7.2500</td>\n",
       "      <td>Braund, Mr. Owen Harris</td>\n",
       "      <td>0</td>\n",
       "      <td>1</td>\n",
       "      <td>3</td>\n",
       "      <td>male</td>\n",
       "      <td>1</td>\n",
       "      <td>A/5 21171</td>\n",
       "      <td>Mr</td>\n",
       "      <td>Owen</td>\n",
       "      <td>2</td>\n",
       "      <td>Owen_2</td>\n",
       "      <td>small</td>\n",
       "    </tr>\n",
       "    <tr>\n",
       "      <th>1</th>\n",
       "      <td>38.0</td>\n",
       "      <td>C</td>\n",
       "      <td>71.2833</td>\n",
       "      <td>Cumings, Mrs. John Bradley (Florence Briggs Th...</td>\n",
       "      <td>0</td>\n",
       "      <td>2</td>\n",
       "      <td>1</td>\n",
       "      <td>female</td>\n",
       "      <td>1</td>\n",
       "      <td>PC 17599</td>\n",
       "      <td>Mrs</td>\n",
       "      <td>John</td>\n",
       "      <td>2</td>\n",
       "      <td>John_2</td>\n",
       "      <td>small</td>\n",
       "    </tr>\n",
       "    <tr>\n",
       "      <th>2</th>\n",
       "      <td>26.0</td>\n",
       "      <td>S</td>\n",
       "      <td>7.9250</td>\n",
       "      <td>Heikkinen, Miss. Laina</td>\n",
       "      <td>0</td>\n",
       "      <td>3</td>\n",
       "      <td>3</td>\n",
       "      <td>female</td>\n",
       "      <td>0</td>\n",
       "      <td>STON/O2. 3101282</td>\n",
       "      <td>Miss</td>\n",
       "      <td>Laina</td>\n",
       "      <td>1</td>\n",
       "      <td>Laina_1</td>\n",
       "      <td>singleton</td>\n",
       "    </tr>\n",
       "    <tr>\n",
       "      <th>3</th>\n",
       "      <td>35.0</td>\n",
       "      <td>S</td>\n",
       "      <td>53.1000</td>\n",
       "      <td>Futrelle, Mrs. Jacques Heath (Lily May Peel)</td>\n",
       "      <td>0</td>\n",
       "      <td>4</td>\n",
       "      <td>1</td>\n",
       "      <td>female</td>\n",
       "      <td>1</td>\n",
       "      <td>113803</td>\n",
       "      <td>Mrs</td>\n",
       "      <td>Jacques</td>\n",
       "      <td>2</td>\n",
       "      <td>Jacques_2</td>\n",
       "      <td>small</td>\n",
       "    </tr>\n",
       "    <tr>\n",
       "      <th>4</th>\n",
       "      <td>35.0</td>\n",
       "      <td>S</td>\n",
       "      <td>8.0500</td>\n",
       "      <td>Allen, Mr. William Henry</td>\n",
       "      <td>0</td>\n",
       "      <td>5</td>\n",
       "      <td>3</td>\n",
       "      <td>male</td>\n",
       "      <td>0</td>\n",
       "      <td>373450</td>\n",
       "      <td>Mr</td>\n",
       "      <td>William</td>\n",
       "      <td>1</td>\n",
       "      <td>William_1</td>\n",
       "      <td>singleton</td>\n",
       "    </tr>\n",
       "  </tbody>\n",
       "</table>\n",
       "</div>"
      ],
      "text/plain": [
       "    Age Embarked     Fare                                               Name  \\\n",
       "0  22.0        S   7.2500                            Braund, Mr. Owen Harris   \n",
       "1  38.0        C  71.2833  Cumings, Mrs. John Bradley (Florence Briggs Th...   \n",
       "2  26.0        S   7.9250                             Heikkinen, Miss. Laina   \n",
       "3  35.0        S  53.1000       Futrelle, Mrs. Jacques Heath (Lily May Peel)   \n",
       "4  35.0        S   8.0500                           Allen, Mr. William Henry   \n",
       "\n",
       "   Parch  PassengerId  Pclass     Sex  SibSp            Ticket Title  Surname  \\\n",
       "0      0            1       3    male      1         A/5 21171    Mr     Owen   \n",
       "1      0            2       1  female      1          PC 17599   Mrs     John   \n",
       "2      0            3       3  female      0  STON/O2. 3101282  Miss    Laina   \n",
       "3      0            4       1  female      1            113803   Mrs  Jacques   \n",
       "4      0            5       3    male      0            373450    Mr  William   \n",
       "\n",
       "   Fsize     Family     FsizeD  \n",
       "0      2     Owen_2      small  \n",
       "1      2     John_2      small  \n",
       "2      1    Laina_1  singleton  \n",
       "3      2  Jacques_2      small  \n",
       "4      1  William_1  singleton  "
      ]
     },
     "execution_count": 77,
     "metadata": {},
     "output_type": "execute_result"
    }
   ],
   "source": [
    "cols.head()"
   ]
  },
  {
   "cell_type": "code",
   "execution_count": 78,
   "metadata": {},
   "outputs": [
    {
     "data": {
      "text/plain": [
       "(1309, 7)"
      ]
     },
     "execution_count": 78,
     "metadata": {},
     "output_type": "execute_result"
    }
   ],
   "source": [
    "newdf.shape"
   ]
  },
  {
   "cell_type": "code",
   "execution_count": 79,
   "metadata": {},
   "outputs": [
    {
     "data": {
      "text/plain": [
       "(1309, 15)"
      ]
     },
     "execution_count": 79,
     "metadata": {},
     "output_type": "execute_result"
    }
   ],
   "source": [
    "cols.shape"
   ]
  },
  {
   "cell_type": "code",
   "execution_count": 80,
   "metadata": {},
   "outputs": [
    {
     "data": {
      "text/plain": [
       "(1309, 18)"
      ]
     },
     "execution_count": 80,
     "metadata": {},
     "output_type": "execute_result"
    }
   ],
   "source": [
    "full_data.shape"
   ]
  },
  {
   "cell_type": "code",
   "execution_count": 81,
   "metadata": {},
   "outputs": [
    {
     "data": {
      "text/plain": [
       "Age             263\n",
       "Cabin          1014\n",
       "Embarked          0\n",
       "Fare              0\n",
       "Name              0\n",
       "Parch             0\n",
       "PassengerId       0\n",
       "Pclass            0\n",
       "Sex               0\n",
       "SibSp             0\n",
       "Survived        418\n",
       "Ticket            0\n",
       "Title             0\n",
       "Surname           0\n",
       "Fsize             0\n",
       "Family            0\n",
       "FsizeD            0\n",
       "Deck           1014\n",
       "dtype: int64"
      ]
     },
     "execution_count": 81,
     "metadata": {},
     "output_type": "execute_result"
    }
   ],
   "source": [
    "full_data.isna().sum()"
   ]
  },
  {
   "cell_type": "code",
   "execution_count": 82,
   "metadata": {},
   "outputs": [],
   "source": [
    "full_data['Age'] = cols['Age']"
   ]
  },
  {
   "cell_type": "code",
   "execution_count": 83,
   "metadata": {},
   "outputs": [
    {
     "data": {
      "text/plain": [
       "Age               0\n",
       "Cabin          1014\n",
       "Embarked          0\n",
       "Fare              0\n",
       "Name              0\n",
       "Parch             0\n",
       "PassengerId       0\n",
       "Pclass            0\n",
       "Sex               0\n",
       "SibSp             0\n",
       "Survived        418\n",
       "Ticket            0\n",
       "Title             0\n",
       "Surname           0\n",
       "Fsize             0\n",
       "Family            0\n",
       "FsizeD            0\n",
       "Deck           1014\n",
       "dtype: int64"
      ]
     },
     "execution_count": 83,
     "metadata": {},
     "output_type": "execute_result"
    }
   ],
   "source": [
    "full_data.isna().sum()"
   ]
  },
  {
   "cell_type": "code",
   "execution_count": 84,
   "metadata": {},
   "outputs": [
    {
     "name": "stderr",
     "output_type": "stream",
     "text": [
      "/anaconda3/lib/python3.6/site-packages/matplotlib/axes/_axes.py:6462: UserWarning: The 'normed' kwarg is deprecated, and has been replaced by the 'density' kwarg.\n",
      "  warnings.warn(\"The 'normed' kwarg is deprecated, and has been \"\n",
      "/anaconda3/lib/python3.6/site-packages/matplotlib/axes/_axes.py:6462: UserWarning: The 'normed' kwarg is deprecated, and has been replaced by the 'density' kwarg.\n",
      "  warnings.warn(\"The 'normed' kwarg is deprecated, and has been \"\n",
      "/anaconda3/lib/python3.6/site-packages/matplotlib/axes/_axes.py:6462: UserWarning: The 'normed' kwarg is deprecated, and has been replaced by the 'density' kwarg.\n",
      "  warnings.warn(\"The 'normed' kwarg is deprecated, and has been \"\n",
      "/anaconda3/lib/python3.6/site-packages/matplotlib/axes/_axes.py:6462: UserWarning: The 'normed' kwarg is deprecated, and has been replaced by the 'density' kwarg.\n",
      "  warnings.warn(\"The 'normed' kwarg is deprecated, and has been \"\n"
     ]
    },
    {
     "data": {
      "image/png": "[encoded data removed]",
      "text/plain": [
       "<Figure size 483.875x216 with 2 Axes>"
      ]
     },
     "metadata": {},
     "output_type": "display_data"
    }
   ],
   "source": [
    "g = sns.FacetGrid(full_data, col=\"Sex\",hue=\"Survived\",margin_titles=True)\n",
    "g.map(sns.distplot, \"Age\", kde = False);\n",
    "g.add_legend();"
   ]
  },
  {
   "cell_type": "code",
   "execution_count": 85,
   "metadata": {},
   "outputs": [
    {
     "name": "stderr",
     "output_type": "stream",
     "text": [
      "/anaconda3/lib/python3.6/site-packages/ipykernel_launcher.py:4: SettingWithCopyWarning: \n",
      "A value is trying to be set on a copy of a slice from a DataFrame\n",
      "\n",
      "See the caveats in the documentation: http://pandas.pydata.org/pandas-docs/stable/indexing.html#indexing-view-versus-copy\n",
      "  after removing the cwd from sys.path.\n",
      "/anaconda3/lib/python3.6/site-packages/ipykernel_launcher.py:5: SettingWithCopyWarning: \n",
      "A value is trying to be set on a copy of a slice from a DataFrame\n",
      "\n",
      "See the caveats in the documentation: http://pandas.pydata.org/pandas-docs/stable/indexing.html#indexing-view-versus-copy\n",
      "  \"\"\"\n"
     ]
    }
   ],
   "source": [
    "full_data['Child'] = full_data['Age']\n",
    "Child = full_data['Child'] < 18\n",
    "Adult = full_data['Child'] >= 18\n",
    "full_data['Child'][Child] = 1\n",
    "full_data['Child'][Adult] = 0"
   ]
  },
  {
   "cell_type": "code",
   "execution_count": 86,
   "metadata": {},
   "outputs": [
    {
     "data": {
      "text/plain": [
       "0.0    1087\n",
       "1.0     222\n",
       "Name: Child, dtype: int64"
      ]
     },
     "execution_count": 86,
     "metadata": {},
     "output_type": "execute_result"
    }
   ],
   "source": [
    "full_data['Child'].value_counts()"
   ]
  },
  {
   "cell_type": "code",
   "execution_count": 87,
   "metadata": {},
   "outputs": [
    {
     "name": "stderr",
     "output_type": "stream",
     "text": [
      "/anaconda3/lib/python3.6/site-packages/ipykernel_launcher.py:5: SettingWithCopyWarning: \n",
      "A value is trying to be set on a copy of a slice from a DataFrame\n",
      "\n",
      "See the caveats in the documentation: http://pandas.pydata.org/pandas-docs/stable/indexing.html#indexing-view-versus-copy\n",
      "  \"\"\"\n"
     ]
    }
   ],
   "source": [
    "full_data['Mother'] = 0\n",
    "is_Parch_0 = full_data['Parch'] > 0\n",
    "is_Age_18 = full_data['Age'] > 18\n",
    "is_Miss = full_data['Title'] != 'Miss'\n",
    "full_data['Mother'][is_Parch_0 & is_Age_18 & is_Miss] = 1"
   ]
  },
  {
   "cell_type": "code",
   "execution_count": 88,
   "metadata": {},
   "outputs": [
    {
     "data": {
      "text/plain": [
       "0    1164\n",
       "1     145\n",
       "Name: Mother, dtype: int64"
      ]
     },
     "execution_count": 88,
     "metadata": {},
     "output_type": "execute_result"
    }
   ],
   "source": [
    "full_data['Mother'].value_counts()"
   ]
  },
  {
   "cell_type": "code",
   "execution_count": 89,
   "metadata": {},
   "outputs": [
    {
     "name": "stdout",
     "output_type": "stream",
     "text": [
      "<class 'pandas.core.frame.DataFrame'>\n",
      "Int64Index: 1309 entries, 0 to 417\n",
      "Data columns (total 20 columns):\n",
      "Age            1309 non-null float64\n",
      "Cabin          295 non-null object\n",
      "Embarked       1309 non-null object\n",
      "Fare           1309 non-null float64\n",
      "Name           1309 non-null object\n",
      "Parch          1309 non-null int64\n",
      "PassengerId    1309 non-null int64\n",
      "Pclass         1309 non-null int64\n",
      "Sex            1309 non-null object\n",
      "SibSp          1309 non-null int64\n",
      "Survived       891 non-null float64\n",
      "Ticket         1309 non-null object\n",
      "Title          1309 non-null object\n",
      "Surname        1309 non-null object\n",
      "Fsize          1309 non-null int64\n",
      "Family         1309 non-null object\n",
      "FsizeD         1309 non-null object\n",
      "Deck           295 non-null object\n",
      "Child          1309 non-null float64\n",
      "Mother         1309 non-null int64\n",
      "dtypes: float64(4), int64(6), object(10)\n",
      "memory usage: 254.8+ KB\n"
     ]
    }
   ],
   "source": [
    "full_data.info()"
   ]
  },
  {
   "cell_type": "code",
   "execution_count": 90,
   "metadata": {},
   "outputs": [],
   "source": [
    "possible_variable = [\"Pclass\", \"Sex\", \"Age\", \"SibSp\", \"Parch\", \"Fare\", \"Embarked\", \"Title\", \"FsizeD\", \"Child\", \"Mother\"]"
   ]
  },
  {
   "cell_type": "code",
   "execution_count": 91,
   "metadata": {},
   "outputs": [
    {
     "data": {
      "text/plain": [
       "CategoricalDtype(categories=['female', 'male'], ordered=False)"
      ]
     },
     "execution_count": 91,
     "metadata": {},
     "output_type": "execute_result"
    }
   ],
   "source": [
    "full_data[\"Survived\"] = full_data[\"Survived\"].astype('category')\n",
    "full_data[possible_variable] = full_data[possible_variable].astype('category')\n",
    "full_data[possible_variable].dtypes\n",
    "full_data['FsizeD'].dtypes\n",
    "full_data['Sex'].dtypes"
   ]
  },
  {
   "cell_type": "code",
   "execution_count": 92,
   "metadata": {},
   "outputs": [
    {
     "data": {
      "text/html": [
       "<div>\n",
       "<style scoped>\n",
       "    .dataframe tbody tr th:only-of-type {\n",
       "        vertical-align: middle;\n",
       "    }\n",
       "\n",
       "    .dataframe tbody tr th {\n",
       "        vertical-align: top;\n",
       "    }\n",
       "\n",
       "    .dataframe thead th {\n",
       "        text-align: right;\n",
       "    }\n",
       "</style>\n",
       "<table border=\"1\" class=\"dataframe\">\n",
       "  <thead>\n",
       "    <tr style=\"text-align: right;\">\n",
       "      <th></th>\n",
       "      <th>Age</th>\n",
       "      <th>Cabin</th>\n",
       "      <th>Embarked</th>\n",
       "      <th>Fare</th>\n",
       "      <th>Name</th>\n",
       "      <th>Parch</th>\n",
       "      <th>PassengerId</th>\n",
       "      <th>Pclass</th>\n",
       "      <th>Sex</th>\n",
       "      <th>SibSp</th>\n",
       "      <th>Survived</th>\n",
       "      <th>Ticket</th>\n",
       "      <th>Title</th>\n",
       "      <th>Surname</th>\n",
       "      <th>Fsize</th>\n",
       "      <th>Family</th>\n",
       "      <th>FsizeD</th>\n",
       "      <th>Deck</th>\n",
       "      <th>Child</th>\n",
       "      <th>Mother</th>\n",
       "    </tr>\n",
       "  </thead>\n",
       "  <tbody>\n",
       "    <tr>\n",
       "      <th>0</th>\n",
       "      <td>22.0</td>\n",
       "      <td>NaN</td>\n",
       "      <td>S</td>\n",
       "      <td>7.2500</td>\n",
       "      <td>Braund, Mr. Owen Harris</td>\n",
       "      <td>0</td>\n",
       "      <td>1</td>\n",
       "      <td>3</td>\n",
       "      <td>male</td>\n",
       "      <td>1</td>\n",
       "      <td>0.0</td>\n",
       "      <td>A/5 21171</td>\n",
       "      <td>Mr</td>\n",
       "      <td>Owen</td>\n",
       "      <td>2</td>\n",
       "      <td>Owen_2</td>\n",
       "      <td>small</td>\n",
       "      <td>NaN</td>\n",
       "      <td>0.0</td>\n",
       "      <td>0</td>\n",
       "    </tr>\n",
       "    <tr>\n",
       "      <th>1</th>\n",
       "      <td>38.0</td>\n",
       "      <td>C85</td>\n",
       "      <td>C</td>\n",
       "      <td>71.2833</td>\n",
       "      <td>Cumings, Mrs. John Bradley (Florence Briggs Th...</td>\n",
       "      <td>0</td>\n",
       "      <td>2</td>\n",
       "      <td>1</td>\n",
       "      <td>female</td>\n",
       "      <td>1</td>\n",
       "      <td>1.0</td>\n",
       "      <td>PC 17599</td>\n",
       "      <td>Mrs</td>\n",
       "      <td>John</td>\n",
       "      <td>2</td>\n",
       "      <td>John_2</td>\n",
       "      <td>small</td>\n",
       "      <td>C</td>\n",
       "      <td>0.0</td>\n",
       "      <td>0</td>\n",
       "    </tr>\n",
       "    <tr>\n",
       "      <th>2</th>\n",
       "      <td>26.0</td>\n",
       "      <td>NaN</td>\n",
       "      <td>S</td>\n",
       "      <td>7.9250</td>\n",
       "      <td>Heikkinen, Miss. Laina</td>\n",
       "      <td>0</td>\n",
       "      <td>3</td>\n",
       "      <td>3</td>\n",
       "      <td>female</td>\n",
       "      <td>0</td>\n",
       "      <td>1.0</td>\n",
       "      <td>STON/O2. 3101282</td>\n",
       "      <td>Miss</td>\n",
       "      <td>Laina</td>\n",
       "      <td>1</td>\n",
       "      <td>Laina_1</td>\n",
       "      <td>singleton</td>\n",
       "      <td>NaN</td>\n",
       "      <td>0.0</td>\n",
       "      <td>0</td>\n",
       "    </tr>\n",
       "    <tr>\n",
       "      <th>3</th>\n",
       "      <td>35.0</td>\n",
       "      <td>C123</td>\n",
       "      <td>S</td>\n",
       "      <td>53.1000</td>\n",
       "      <td>Futrelle, Mrs. Jacques Heath (Lily May Peel)</td>\n",
       "      <td>0</td>\n",
       "      <td>4</td>\n",
       "      <td>1</td>\n",
       "      <td>female</td>\n",
       "      <td>1</td>\n",
       "      <td>1.0</td>\n",
       "      <td>113803</td>\n",
       "      <td>Mrs</td>\n",
       "      <td>Jacques</td>\n",
       "      <td>2</td>\n",
       "      <td>Jacques_2</td>\n",
       "      <td>small</td>\n",
       "      <td>C</td>\n",
       "      <td>0.0</td>\n",
       "      <td>0</td>\n",
       "    </tr>\n",
       "    <tr>\n",
       "      <th>4</th>\n",
       "      <td>35.0</td>\n",
       "      <td>NaN</td>\n",
       "      <td>S</td>\n",
       "      <td>8.0500</td>\n",
       "      <td>Allen, Mr. William Henry</td>\n",
       "      <td>0</td>\n",
       "      <td>5</td>\n",
       "      <td>3</td>\n",
       "      <td>male</td>\n",
       "      <td>0</td>\n",
       "      <td>0.0</td>\n",
       "      <td>373450</td>\n",
       "      <td>Mr</td>\n",
       "      <td>William</td>\n",
       "      <td>1</td>\n",
       "      <td>William_1</td>\n",
       "      <td>singleton</td>\n",
       "      <td>NaN</td>\n",
       "      <td>0.0</td>\n",
       "      <td>0</td>\n",
       "    </tr>\n",
       "  </tbody>\n",
       "</table>\n",
       "</div>"
      ],
      "text/plain": [
       "    Age Cabin Embarked     Fare  \\\n",
       "0  22.0   NaN        S   7.2500   \n",
       "1  38.0   C85        C  71.2833   \n",
       "2  26.0   NaN        S   7.9250   \n",
       "3  35.0  C123        S  53.1000   \n",
       "4  35.0   NaN        S   8.0500   \n",
       "\n",
       "                                                Name Parch  PassengerId  \\\n",
       "0                            Braund, Mr. Owen Harris     0            1   \n",
       "1  Cumings, Mrs. John Bradley (Florence Briggs Th...     0            2   \n",
       "2                             Heikkinen, Miss. Laina     0            3   \n",
       "3       Futrelle, Mrs. Jacques Heath (Lily May Peel)     0            4   \n",
       "4                           Allen, Mr. William Henry     0            5   \n",
       "\n",
       "  Pclass     Sex SibSp Survived            Ticket Title  Surname  Fsize  \\\n",
       "0      3    male     1      0.0         A/5 21171    Mr     Owen      2   \n",
       "1      1  female     1      1.0          PC 17599   Mrs     John      2   \n",
       "2      3  female     0      1.0  STON/O2. 3101282  Miss    Laina      1   \n",
       "3      1  female     1      1.0            113803   Mrs  Jacques      2   \n",
       "4      3    male     0      0.0            373450    Mr  William      1   \n",
       "\n",
       "      Family     FsizeD Deck Child Mother  \n",
       "0     Owen_2      small  NaN   0.0      0  \n",
       "1     John_2      small    C   0.0      0  \n",
       "2    Laina_1  singleton  NaN   0.0      0  \n",
       "3  Jacques_2      small    C   0.0      0  \n",
       "4  William_1  singleton  NaN   0.0      0  "
      ]
     },
     "execution_count": 92,
     "metadata": {},
     "output_type": "execute_result"
    }
   ],
   "source": [
    "full_data.head()"
   ]
  },
  {
   "cell_type": "code",
   "execution_count": 93,
   "metadata": {
    "collapsed": true
   },
   "outputs": [
    {
     "data": {
      "text/html": [
       "<div>\n",
       "<style scoped>\n",
       "    .dataframe tbody tr th:only-of-type {\n",
       "        vertical-align: middle;\n",
       "    }\n",
       "\n",
       "    .dataframe tbody tr th {\n",
       "        vertical-align: top;\n",
       "    }\n",
       "\n",
       "    .dataframe thead th {\n",
       "        text-align: right;\n",
       "    }\n",
       "</style>\n",
       "<table border=\"1\" class=\"dataframe\">\n",
       "  <thead>\n",
       "    <tr style=\"text-align: right;\">\n",
       "      <th></th>\n",
       "      <th>PassengerId</th>\n",
       "      <th>Fsize</th>\n",
       "    </tr>\n",
       "  </thead>\n",
       "  <tbody>\n",
       "    <tr>\n",
       "      <th>count</th>\n",
       "      <td>1309.000000</td>\n",
       "      <td>1309.000000</td>\n",
       "    </tr>\n",
       "    <tr>\n",
       "      <th>mean</th>\n",
       "      <td>655.000000</td>\n",
       "      <td>1.883881</td>\n",
       "    </tr>\n",
       "    <tr>\n",
       "      <th>std</th>\n",
       "      <td>378.020061</td>\n",
       "      <td>1.583639</td>\n",
       "    </tr>\n",
       "    <tr>\n",
       "      <th>min</th>\n",
       "      <td>1.000000</td>\n",
       "      <td>1.000000</td>\n",
       "    </tr>\n",
       "    <tr>\n",
       "      <th>25%</th>\n",
       "      <td>328.000000</td>\n",
       "      <td>1.000000</td>\n",
       "    </tr>\n",
       "    <tr>\n",
       "      <th>50%</th>\n",
       "      <td>655.000000</td>\n",
       "      <td>1.000000</td>\n",
       "    </tr>\n",
       "    <tr>\n",
       "      <th>75%</th>\n",
       "      <td>982.000000</td>\n",
       "      <td>2.000000</td>\n",
       "    </tr>\n",
       "    <tr>\n",
       "      <th>max</th>\n",
       "      <td>1309.000000</td>\n",
       "      <td>11.000000</td>\n",
       "    </tr>\n",
       "  </tbody>\n",
       "</table>\n",
       "</div>"
      ],
      "text/plain": [
       "       PassengerId        Fsize\n",
       "count  1309.000000  1309.000000\n",
       "mean    655.000000     1.883881\n",
       "std     378.020061     1.583639\n",
       "min       1.000000     1.000000\n",
       "25%     328.000000     1.000000\n",
       "50%     655.000000     1.000000\n",
       "75%     982.000000     2.000000\n",
       "max    1309.000000    11.000000"
      ]
     },
     "execution_count": 93,
     "metadata": {},
     "output_type": "execute_result"
    }
   ],
   "source": [
    "full_data.describe()"
   ]
  },
  {
   "cell_type": "code",
   "execution_count": 94,
   "metadata": {
    "collapsed": true
   },
   "outputs": [
    {
     "data": {
      "text/plain": [
       "Age            category\n",
       "Cabin            object\n",
       "Embarked       category\n",
       "Fare           category\n",
       "Name             object\n",
       "Parch          category\n",
       "PassengerId       int64\n",
       "Pclass         category\n",
       "Sex            category\n",
       "SibSp          category\n",
       "Survived       category\n",
       "Ticket           object\n",
       "Title          category\n",
       "Surname          object\n",
       "Fsize             int64\n",
       "Family           object\n",
       "FsizeD         category\n",
       "Deck             object\n",
       "Child          category\n",
       "Mother         category\n",
       "dtype: object"
      ]
     },
     "execution_count": 94,
     "metadata": {},
     "output_type": "execute_result"
    }
   ],
   "source": [
    "full_data.dtypes"
   ]
  },
  {
   "cell_type": "markdown",
   "metadata": {},
   "source": [
    "Prepare the data and split it"
   ]
  },
  {
   "cell_type": "code",
   "execution_count": 98,
   "metadata": {},
   "outputs": [],
   "source": [
    "dumDF = full_data.copy(deep=True)\n",
    "dumCols = ['Sex','Embarked','Title','FsizeD']\n",
    "\n",
    "dummy_df = pd.get_dummies(full_data[dumCols])\n",
    "filteredDF = pd.concat([dumDF, dummy_df], axis=1)\n",
    "filteredDF = filteredDF.drop(dumCols, axis=1)"
   ]
  },
  {
   "cell_type": "code",
   "execution_count": 99,
   "metadata": {},
   "outputs": [
    {
     "data": {
      "text/plain": [
       "Index(['Age', 'Cabin', 'Fare', 'Name', 'Parch', 'PassengerId', 'Pclass',\n",
       "       'SibSp', 'Survived', 'Ticket', 'Surname', 'Fsize', 'Family', 'Deck',\n",
       "       'Child', 'Mother', 'Sex_female', 'Sex_male', 'Embarked_C', 'Embarked_Q',\n",
       "       'Embarked_S', 'Title_Master', 'Title_Miss', 'Title_Mr', 'Title_Mrs',\n",
       "       'Title_Rare Title', 'FsizeD_large', 'FsizeD_singleton', 'FsizeD_small'],\n",
       "      dtype='object')"
      ]
     },
     "execution_count": 99,
     "metadata": {},
     "output_type": "execute_result"
    }
   ],
   "source": [
    "filteredDF.columns"
   ]
  },
  {
   "cell_type": "code",
   "execution_count": 101,
   "metadata": {},
   "outputs": [],
   "source": [
    "poss_vars = [\"Pclass\",  \"Age\", \"SibSp\", \"Parch\", \"Fare\", \"Child\", \"Mother\",'Sex_female', 'Sex_male', 'Embarked_C', 'Embarked_Q',\n",
    "       'Embarked_S', 'Title_Master', 'Title_Miss', 'Title_Mr', 'Title_Mrs',\n",
    "       'Title_Rare Title', 'FsizeD_large', 'FsizeD_singleton', 'FsizeD_small']"
   ]
  },
  {
   "cell_type": "code",
   "execution_count": 105,
   "metadata": {},
   "outputs": [],
   "source": [
    "filteredDF.fillna(method='bfill',inplace=True)"
   ]
  },
  {
   "cell_type": "code",
   "execution_count": 116,
   "metadata": {},
   "outputs": [],
   "source": [
    "filteredDF.Survived.fillna(method='ffill',inplace=True)"
   ]
  },
  {
   "cell_type": "code",
   "execution_count": 117,
   "metadata": {
    "scrolled": true
   },
   "outputs": [
    {
     "data": {
      "text/plain": [
       "Age                 0\n",
       "Cabin               3\n",
       "Fare                0\n",
       "Name                0\n",
       "Parch               0\n",
       "PassengerId         0\n",
       "Pclass              0\n",
       "SibSp               0\n",
       "Survived            0\n",
       "Ticket              0\n",
       "Surname             0\n",
       "Fsize               0\n",
       "Family              0\n",
       "Deck                3\n",
       "Child               0\n",
       "Mother              0\n",
       "Sex_female          0\n",
       "Sex_male            0\n",
       "Embarked_C          0\n",
       "Embarked_Q          0\n",
       "Embarked_S          0\n",
       "Title_Master        0\n",
       "Title_Miss          0\n",
       "Title_Mr            0\n",
       "Title_Mrs           0\n",
       "Title_Rare Title    0\n",
       "FsizeD_large        0\n",
       "FsizeD_singleton    0\n",
       "FsizeD_small        0\n",
       "dtype: int64"
      ]
     },
     "execution_count": 117,
     "metadata": {},
     "output_type": "execute_result"
    }
   ],
   "source": [
    "filteredDF.isna().sum()"
   ]
  },
  {
   "cell_type": "code",
   "execution_count": 118,
   "metadata": {},
   "outputs": [],
   "source": [
    "filteredDF.dropna(inplace=True)"
   ]
  },
  {
   "cell_type": "code",
   "execution_count": 119,
   "metadata": {},
   "outputs": [],
   "source": [
    "# filteredDF.Survived = filteredDF.Survived.astype(int)"
   ]
  },
  {
   "cell_type": "code",
   "execution_count": 120,
   "metadata": {},
   "outputs": [],
   "source": [
    "# filteredDF.Survived.dtypes"
   ]
  },
  {
   "cell_type": "code",
   "execution_count": 121,
   "metadata": {},
   "outputs": [],
   "source": [
    "# filteredDF.Survived.fillna(filteredDF.Survived.median(),inplace=True)"
   ]
  },
  {
   "cell_type": "code",
   "execution_count": 122,
   "metadata": {},
   "outputs": [],
   "source": [
    "from sklearn.model_selection import train_test_split\n",
    "X = filteredDF[poss_vars]\n",
    "y = filteredDF['Survived']\n",
    "X_train, X_test, y_train, y_test = train_test_split(X, \n",
    "                                                    y, test_size = 0.41, random_state = 42) \n"
   ]
  },
  {
   "cell_type": "code",
   "execution_count": 123,
   "metadata": {},
   "outputs": [
    {
     "data": {
      "text/plain": [
       "RandomForestClassifier(bootstrap=True, class_weight=None, criterion='gini',\n",
       "            max_depth=None, max_features='auto', max_leaf_nodes=None,\n",
       "            min_impurity_decrease=0.0, min_impurity_split=None,\n",
       "            min_samples_leaf=1, min_samples_split=2,\n",
       "            min_weight_fraction_leaf=0.0, n_estimators=100, n_jobs=1,\n",
       "            oob_score=False, random_state=None, verbose=0,\n",
       "            warm_start=False)"
      ]
     },
     "execution_count": 123,
     "metadata": {},
     "output_type": "execute_result"
    }
   ],
   "source": [
    "from sklearn.ensemble import RandomForestClassifier\n",
    "rfc = RandomForestClassifier(n_estimators = 100)\n",
    "rfc.fit(X_train, y_train)"
   ]
  },
  {
   "cell_type": "code",
   "execution_count": null,
   "metadata": {},
   "outputs": [],
   "source": []
  }
 ],
 "metadata": {
  "kernelspec": {
   "display_name": "Python 3",
   "language": "python",
   "name": "python3"
  },
  "language_info": {
   "codemirror_mode": {
    "name": "ipython",
    "version": 3
   },
   "file_extension": ".py",
   "mimetype": "text/x-python",
   "name": "python",
   "nbconvert_exporter": "python",
   "pygments_lexer": "ipython3",
   "version": "3.6.5"
  }
 },
 "nbformat": 4,
 "nbformat_minor": 2
}
